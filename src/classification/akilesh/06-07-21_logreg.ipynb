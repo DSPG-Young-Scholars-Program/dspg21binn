{
 "cells": [
  {
   "cell_type": "code",
   "execution_count": 19,
   "metadata": {},
   "outputs": [],
   "source": [
    "import numpy as np\n",
    "import pandas as pd\n",
    "import torch\n",
    "import random\n",
    "\n",
    "from transformers import pipeline\n",
    "from transformers import AutoTokenizer, AutoModel\n",
    "\n",
    "\n",
    "import transformers as ppb # pytorch transformers\n",
    "from sklearn.linear_model import LogisticRegression\n",
    "from sklearn.model_selection import cross_val_score\n",
    "from sklearn.model_selection import train_test_split\n",
    "from sklearn import preprocessing"
   ]
  },
  {
   "cell_type": "code",
   "execution_count": 20,
   "metadata": {},
   "outputs": [],
   "source": [
    "random.seed(65432)"
   ]
  },
  {
   "cell_type": "code",
   "execution_count": 21,
   "metadata": {},
   "outputs": [],
   "source": [
    "df = pd.read_excel(r\"software_600.xlsx\") ## Reading in data\n",
    "df = df[['full_text', 'YN_INNOVATION']].reset_index(inplace=False, drop = True)\n"
   ]
  },
  {
   "cell_type": "code",
   "execution_count": 22,
   "metadata": {},
   "outputs": [
    {
     "name": "stdout",
     "output_type": "stream",
     "text": [
      "Value counts for target variable:\n",
      " no     222\n",
      "yes    222\n",
      "Name: YN_INNOVATION, dtype: int64\n",
      "\n",
      "\n",
      "\n",
      "The target variable classes are: ['no' 'yes']\n"
     ]
    }
   ],
   "source": [
    "## Balancing target class \n",
    "\n",
    "df_yes = df[df.YN_INNOVATION == 'yes']\n",
    "df_no = df[df.YN_INNOVATION == 'no']\n",
    "\n",
    "if len(df_yes) == len(df_no):\n",
    "    df_yes = df_yes.append(df_no)\n",
    "    df = df_yes\n",
    "    \n",
    "elif len(df_yes) > len(df_no):\n",
    "    df_yes = df_yes.sample(n=len(df_no), random_state = 65432)\n",
    "    df_yes = df_yes.append(df_no)\n",
    "    df = df_yes\n",
    "    \n",
    "elif len(df_no) > len(df_yes):\n",
    "    df_no = df_no.sample(n=len(df_yes), random_state = 65432)\n",
    "    df_yes = df_yes.append(df_no)\n",
    "    df = df_yes\n",
    "    \n",
    "df = df.sample(n=len(df), random_state = 65432).reset_index(inplace=False, drop = True)\n",
    "\n",
    "    \n",
    "print(\"Value counts for target variable:\\n\",df.YN_INNOVATION.value_counts())\n",
    "\n",
    "## Encoding target variable\n",
    "\n",
    "le = preprocessing.LabelEncoder()\n",
    "df.YN_INNOVATION = le.fit_transform(df.YN_INNOVATION)\n",
    "print(\"\\n\\n\\nThe target variable classes are:\", le.classes_)"
   ]
  },
  {
   "cell_type": "code",
   "execution_count": 23,
   "metadata": {},
   "outputs": [
    {
     "data": {
      "application/vnd.jupyter.widget-view+json": {
       "model_id": "f9ffe80181df4cf384b9c402b6fc483e",
       "version_major": 2,
       "version_minor": 0
      },
      "text/plain": [
       "Downloading:   0%|          | 0.00/442 [00:00<?, ?B/s]"
      ]
     },
     "metadata": {},
     "output_type": "display_data"
    },
    {
     "data": {
      "application/vnd.jupyter.widget-view+json": {
       "model_id": "bedfccafd4794e03b5396bdc67762e11",
       "version_major": 2,
       "version_minor": 0
      },
      "text/plain": [
       "Downloading:   0%|          | 0.00/268M [00:00<?, ?B/s]"
      ]
     },
     "metadata": {},
     "output_type": "display_data"
    }
   ],
   "source": [
    "## BERT models:\n",
    "\n",
    "#uncased\n",
    "#model_class, tokenizer_class, pretrained_weights = (ppb.BertModel, ppb.BertTokenizer, 'bert-base-uncased')\n",
    "\n",
    "#cased\n",
    "#model_class, tokenizer_class, pretrained_weights = (ppb.BertModel, ppb.BertTokenizer, 'bert-base-cased')\n",
    "\n",
    "#distil uncased\n",
    "model_class, tokenizer_class, pretrained_weights = (ppb.DistilBertModel, ppb.DistilBertTokenizer, 'distilbert-base-uncased')\n",
    "\n",
    "#distil cased\n",
    "#model_class, tokenizer_class, pretrained_weights = (ppb.DistilBertModel, ppb.DistilBertTokenizer, 'distilbert-base-cased')\n",
    "\n",
    "\n",
    "# Load pretrained model/tokenizer\n",
    "tokenizer = tokenizer_class.from_pretrained(pretrained_weights)\n",
    "model = model_class.from_pretrained(pretrained_weights)"
   ]
  },
  {
   "cell_type": "code",
   "execution_count": 24,
   "metadata": {},
   "outputs": [],
   "source": [
    "##Big Bird \n",
    "\n",
    "#a method using AutoModel and AutoTokenizer\n",
    "#model_class, tokenizer_class, pretrained_weights = (AutoModel, AutoTokenizer, 'google/bigbird-roberta-base')\n",
    "#tokenizer = tokenizer_class.from_pretrained(pretrained_weights)\n",
    "#model = model_class.from_pretrained(pretrained_weights)\n",
    "\n",
    "\n",
    "# a method using \"BigBirdModel\" from transformers\n",
    "#from transformers import BigBirdModel \n",
    "#model = BigBirdModel.from_pretrained(\"google/bigbird-roberta-base\")"
   ]
  },
  {
   "cell_type": "code",
   "execution_count": 25,
   "metadata": {},
   "outputs": [],
   "source": [
    "tokenized = df['full_text'].apply((lambda x: tokenizer.encode(x, add_special_tokens=True, padding=True, \n",
    "                                                              truncation=True,max_length=512)))"
   ]
  },
  {
   "cell_type": "code",
   "execution_count": 26,
   "metadata": {},
   "outputs": [],
   "source": [
    "max_len = 0\n",
    "for i in tokenized.values:\n",
    "    if len(i) > max_len:\n",
    "        max_len = len(i)\n",
    "\n",
    "padded = np.array([i + [0]*(max_len-len(i)) for i in tokenized.values])"
   ]
  },
  {
   "cell_type": "code",
   "execution_count": 27,
   "metadata": {},
   "outputs": [
    {
     "data": {
      "text/plain": [
       "(444, 512)"
      ]
     },
     "execution_count": 27,
     "metadata": {},
     "output_type": "execute_result"
    }
   ],
   "source": [
    "np.array(padded).shape"
   ]
  },
  {
   "cell_type": "code",
   "execution_count": 28,
   "metadata": {},
   "outputs": [
    {
     "data": {
      "text/plain": [
       "(444, 512)"
      ]
     },
     "execution_count": 28,
     "metadata": {},
     "output_type": "execute_result"
    }
   ],
   "source": [
    "attention_mask = np.where(padded != 0, 1, 0)\n",
    "attention_mask.shape"
   ]
  },
  {
   "cell_type": "code",
   "execution_count": 29,
   "metadata": {},
   "outputs": [],
   "source": [
    "input_ids = torch.tensor(padded)  \n",
    "attention_mask = torch.tensor(attention_mask)\n",
    "\n",
    "with torch.no_grad():\n",
    "    last_hidden_states = model(input_ids, attention_mask=attention_mask)"
   ]
  },
  {
   "cell_type": "code",
   "execution_count": null,
   "metadata": {},
   "outputs": [],
   "source": []
  },
  {
   "cell_type": "code",
   "execution_count": 30,
   "metadata": {},
   "outputs": [],
   "source": [
    "features = last_hidden_states[0][:,0,:].numpy()"
   ]
  },
  {
   "cell_type": "code",
   "execution_count": 33,
   "metadata": {},
   "outputs": [],
   "source": [
    "labels = df['YN_INNOVATION']"
   ]
  },
  {
   "cell_type": "code",
   "execution_count": 34,
   "metadata": {},
   "outputs": [],
   "source": [
    "train_features, test_features, train_labels, test_labels = train_test_split(features, labels)"
   ]
  },
  {
   "cell_type": "code",
   "execution_count": 35,
   "metadata": {},
   "outputs": [
    {
     "name": "stderr",
     "output_type": "stream",
     "text": [
      "/home/asr8r/.conda/envs/akbert/lib/python3.8/site-packages/sklearn/linear_model/_sag.py:328: ConvergenceWarning: The max_iter was reached which means the coef_ did not converge\n",
      "  warnings.warn(\"The max_iter was reached which means \"\n"
     ]
    },
    {
     "data": {
      "text/plain": [
       "LogisticRegression(solver='sag')"
      ]
     },
     "execution_count": 35,
     "metadata": {},
     "output_type": "execute_result"
    }
   ],
   "source": [
    "lr_clf = LogisticRegression(solver=\"sag\")\n",
    "lr_clf.fit(train_features, train_labels)"
   ]
  },
  {
   "cell_type": "code",
   "execution_count": 36,
   "metadata": {},
   "outputs": [
    {
     "data": {
      "text/plain": [
       "0.8828828828828829"
      ]
     },
     "execution_count": 36,
     "metadata": {},
     "output_type": "execute_result"
    }
   ],
   "source": [
    "lr_clf.score(test_features, test_labels)"
   ]
  },
  {
   "cell_type": "code",
   "execution_count": 37,
   "metadata": {},
   "outputs": [
    {
     "name": "stdout",
     "output_type": "stream",
     "text": [
      "Test accuracy:\n",
      "0.9009009009009009\n",
      "Vector with coefficient values for theta_1, theta_2\n",
      "theta_0: -0.11379806 theta_1, theta_2: =  [ 2.90067434e-01 -5.22598065e-02  1.89446174e-02 -1.68207303e-01\n",
      " -2.17840746e-02 -5.98741472e-02  2.06536964e-01 -8.05478543e-02\n",
      " -1.24714904e-01 -1.44916594e-01 -4.30659711e-01  1.97025627e-01\n",
      " -9.29361582e-02 -1.12228133e-01  8.68236423e-02  1.78494817e-03\n",
      " -1.05063073e-01  1.05802700e-01  2.01799169e-01 -2.48026222e-01\n",
      "  5.52546866e-02 -8.81617740e-02 -8.52799788e-02  1.12681046e-01\n",
      " -3.58661681e-01 -2.00532049e-01  1.93390921e-01 -2.40592614e-01\n",
      " -7.97923058e-02  3.00484359e-01 -2.94128191e-02  4.45038900e-02\n",
      " -1.20400071e-01 -4.91468646e-02 -1.81343526e-01  2.36204550e-01\n",
      " -1.20625816e-01  8.53014961e-02 -1.54681623e-01  2.01322958e-01\n",
      " -3.17878127e-01  1.51157543e-01  3.08597147e-01 -8.07208940e-02\n",
      "  1.39501709e-02  1.35797605e-01  2.72044558e-02 -7.10011786e-03\n",
      " -3.47901583e-01 -4.93590236e-02  1.68863740e-02  3.57018560e-01\n",
      "  4.48111519e-02 -2.56285876e-01 -1.88467339e-01  3.29719633e-01\n",
      "  8.14416558e-02  1.70783848e-01 -3.91157605e-02  1.27717003e-01\n",
      " -4.54435460e-02 -3.86867404e-01 -2.14012578e-01 -5.70993908e-02\n",
      "  1.07616767e-01 -1.77651107e-01 -3.26877803e-01 -1.57462675e-02\n",
      "  3.04449387e-02 -5.00474513e-01 -4.26057786e-01 -3.00325491e-02\n",
      " -3.45557719e-01 -3.42458367e-01 -3.09713688e-02  1.40439019e-01\n",
      "  9.32739079e-02 -1.23390235e-01 -5.26802847e-03  7.82595426e-02\n",
      "  1.09141469e-02  1.07855350e-01  2.36636564e-01 -2.02715367e-01\n",
      " -1.58170275e-02  5.96597157e-02  1.81620598e-01  4.37414378e-01\n",
      " -1.26540780e-01 -4.51298743e-01 -1.17076479e-01 -3.37615222e-01\n",
      "  3.51686418e-01 -2.17931390e-01  5.83763458e-02  2.53996700e-01\n",
      "  1.60311069e-02  2.15767786e-01  2.90840089e-01 -8.80486667e-02\n",
      "  1.58494756e-01 -1.95455793e-02 -8.71842653e-02  1.25317395e-01\n",
      "  3.78692836e-01  5.47638126e-02 -2.87211593e-03  3.22016329e-01\n",
      "  2.34076947e-01  2.15997487e-01  4.97466385e-01  4.02668059e-01\n",
      " -2.38179434e-02 -2.92944908e-01 -1.27904406e-02  1.96951833e-02\n",
      " -1.22936323e-01  3.41010392e-01  5.24371624e-01 -7.33674318e-02\n",
      " -1.91588074e-01  2.76228786e-01 -4.29885313e-02  2.99467236e-01\n",
      "  3.39743376e-01  2.87744015e-01 -3.76393944e-01  6.90949261e-02\n",
      " -1.34774804e-01 -3.15429829e-02  1.65747747e-01  1.19323254e-01\n",
      "  2.05190599e-01  5.94694130e-02  2.36935869e-01  1.64838299e-01\n",
      " -9.91598964e-02  1.09408453e-01  9.91177857e-02 -1.01717651e-01\n",
      "  2.14959085e-01 -1.86301902e-01  4.72208411e-01 -3.33920717e-01\n",
      " -4.82742637e-02  5.31056046e-01 -9.77369994e-02  4.82018068e-02\n",
      "  3.58528674e-01 -1.91106662e-01 -1.25342146e-01 -2.18607247e-01\n",
      "  1.55189037e-01 -2.17280790e-01  1.89500585e-01  1.58020601e-01\n",
      "  2.91018903e-01  1.30967721e-01 -1.95720881e-01 -1.64335325e-01\n",
      " -2.74075028e-02  5.29171169e-01 -1.00246884e-01 -4.25918937e-01\n",
      "  2.06633985e-01 -5.51254041e-02  3.61799486e-02  1.20190889e-01\n",
      "  5.80262363e-01 -3.93844604e-01  3.59483182e-01  1.42329276e-01\n",
      " -1.75746098e-01  4.33247358e-01  4.39537793e-01 -1.72355399e-01\n",
      "  1.95822418e-01 -2.92992532e-01 -1.18156865e-01  2.99596876e-01\n",
      " -6.54677898e-02 -7.29560703e-02 -2.02454448e-01 -4.66696411e-01\n",
      " -2.16942981e-01 -7.23518506e-02  1.63097888e-01  5.50015569e-02\n",
      " -2.21121222e-01  2.71023456e-02 -3.26906711e-01 -1.21240094e-01\n",
      " -2.69261986e-01  9.04629193e-03  5.53275719e-02  1.79407105e-01\n",
      " -4.39360231e-01  1.20806269e-01  3.08575600e-01  2.04397529e-01\n",
      "  1.36313558e-01  1.07765801e-01 -3.02352071e-01 -5.31740524e-02\n",
      " -2.51708567e-01  9.65039730e-02  2.45760545e-01  2.54909366e-01\n",
      " -2.20425561e-01  1.19997032e-01 -1.01444162e-01  1.57235354e-01\n",
      "  5.61232030e-01 -2.23462462e-01 -2.98611134e-01  1.69436127e-01\n",
      " -1.30925015e-01 -2.23532706e-01 -2.16608867e-01  1.67071730e-01\n",
      " -3.08271527e-01  3.13570708e-01 -4.01597530e-01 -1.39548272e-01\n",
      " -3.15293185e-02 -1.48115024e-01 -2.01813310e-01 -5.88422239e-01\n",
      "  3.77529144e-01  2.93280184e-01 -4.71423507e-01  2.34418705e-01\n",
      " -4.40542847e-01 -3.73689272e-02  5.74201882e-01  9.15119350e-02\n",
      "  5.08223712e-01 -3.97533625e-02 -8.86340439e-02  3.24673533e-01\n",
      " -2.22364422e-02 -1.87992170e-01  9.81852133e-03 -2.68957876e-02\n",
      "  1.03328235e-01  3.21449935e-01 -1.67727157e-01  3.44701260e-02\n",
      " -1.34982079e-01  3.49966921e-02  5.39753959e-02  2.76260108e-01\n",
      "  3.70099396e-02  2.93078981e-02  6.32023811e-02 -5.97132966e-02\n",
      " -6.28450289e-02 -1.70122012e-01 -4.05282229e-01  2.64960766e-01\n",
      " -5.38583212e-02 -4.06915434e-02 -2.20947802e-01 -2.33844206e-01\n",
      "  1.57955587e-01 -1.99333668e-01 -3.28262925e-01  3.72438967e-01\n",
      " -1.49873849e-02  2.55986661e-01 -4.80048269e-01 -4.33477402e-01\n",
      " -3.94729704e-01  1.15576126e-01  4.35825557e-01  8.46825764e-02\n",
      " -8.74486789e-02 -4.80317697e-02  3.70250583e-01  1.22804239e-01\n",
      "  9.43958014e-02  4.35820788e-01  5.07578477e-02  3.80493850e-02\n",
      "  1.00197166e-01 -2.45446116e-01  2.95985460e-01 -1.45995870e-01\n",
      " -2.11719528e-01  5.33272773e-02  5.39769456e-02 -4.98898663e-02\n",
      " -1.25887632e-01  2.90271550e-01 -1.68116510e-01 -6.10500090e-02\n",
      "  2.38448426e-01 -4.18371648e-01  1.69169635e-01 -1.41295224e-01\n",
      " -5.74028604e-02 -1.83571175e-01 -2.72231072e-01  2.10064307e-01\n",
      "  3.54540169e-01 -7.52287135e-02  9.64658856e-02 -4.12196100e-01\n",
      " -1.68305878e-02 -2.49287948e-01  6.36590958e-01 -1.40480008e-02\n",
      " -1.53117463e-01  1.09811224e-01 -2.03105927e-01  1.49278240e-02\n",
      " -2.63592392e-01 -2.82856822e-01 -1.72787592e-01  9.01038349e-02\n",
      "  1.25891149e-01 -8.48971903e-02  8.91910791e-02 -5.14935143e-02\n",
      " -7.79183134e-02  2.47971430e-01  9.63789672e-02 -3.43044013e-01\n",
      " -3.44561428e-01  4.30663884e-01 -2.11762413e-02 -1.34683117e-01\n",
      "  4.02620077e-01 -8.47507775e-01  1.75508410e-01  2.83071071e-01\n",
      "  3.43149789e-02  3.08557510e-01 -1.52547330e-01 -8.61687288e-02\n",
      " -2.47610718e-01 -1.07918471e-01  3.16279731e-03  1.62820712e-01\n",
      " -1.19781382e-01 -1.48662344e-01  2.96357065e-01 -1.82599634e-01\n",
      "  1.56519473e-01 -2.51016200e-01  3.02252531e-01 -2.09232107e-01\n",
      "  2.24133611e-01 -2.07727045e-01 -2.93502621e-02 -3.60059232e-01\n",
      "  1.90578118e-01 -2.79137164e-01  3.83618444e-01 -4.09826666e-01\n",
      " -1.63371667e-01 -1.63248807e-01  2.76810415e-02 -1.61614299e-01\n",
      "  1.07101519e-02  1.88167334e-01  4.60890941e-02 -2.98526362e-02\n",
      "  2.12488055e-01 -8.48194957e-02 -5.22638857e-01  2.61064827e-01\n",
      "  3.24067026e-01  3.61284524e-01  1.40174314e-01 -4.11032587e-01\n",
      " -3.91280977e-03  8.84032622e-02 -3.70155126e-01  3.83292705e-01\n",
      "  9.31583196e-02 -3.40887249e-01  1.09898739e-01  2.77235061e-01\n",
      " -3.75061274e-01 -3.83127660e-01 -8.51042718e-02 -4.75720428e-02\n",
      "  1.41091779e-01  1.68526545e-01  7.55550563e-02 -9.98400077e-02\n",
      " -7.30314478e-02  5.37642576e-02  3.45623493e-02  3.76190662e-01\n",
      " -1.61546156e-01  1.45486042e-01  7.65499622e-02  2.40876138e-01\n",
      "  3.39926094e-01 -3.56920481e-01  1.59885824e-01  2.19046950e-01\n",
      " -6.38967603e-02 -4.09816280e-02  2.14596152e-01 -5.76997958e-02\n",
      "  1.53110906e-01 -1.20153595e-02 -2.46233195e-01 -1.29185587e-01\n",
      " -7.01291636e-02  1.44290745e-01  1.48860037e-01 -2.00960353e-01\n",
      "  4.40638959e-01 -2.65200019e-01 -3.80099952e-01 -2.89516412e-02\n",
      " -2.41853267e-01 -2.10931227e-01 -4.87206802e-02  6.91169687e-03\n",
      " -2.83546597e-01 -2.05645755e-01 -2.55101603e-02 -9.70550403e-02\n",
      "  5.88898547e-02 -2.67444327e-02  1.07723340e-01  1.20981842e-01\n",
      "  8.63043517e-02 -2.36607455e-02  4.58211988e-01  1.91748992e-01\n",
      "  2.02404454e-01 -3.92594635e-02 -4.24668729e-01 -9.45013836e-02\n",
      " -1.73923776e-01  7.06828237e-02  1.24961346e-01  1.76211104e-01\n",
      " -1.13482401e-02 -2.03005075e-01 -2.40409821e-01  2.79450923e-01\n",
      "  3.45233008e-02  6.31037056e-02  4.63399172e-01 -2.43023574e-01\n",
      "  1.22105859e-01 -1.45362779e-01 -7.63844103e-02  3.57005477e-01\n",
      " -3.57358940e-02  5.09186694e-03  3.70500982e-01  2.01668162e-02\n",
      " -1.72282487e-01 -6.33596107e-02  1.78067937e-01  5.85438348e-02\n",
      "  2.69781202e-01 -1.36386260e-01  1.67359382e-01  2.77631581e-02\n",
      "  2.50415951e-01 -1.73682123e-01  1.36850059e-01  1.11640505e-01\n",
      "  1.03709206e-01  2.02326894e-01 -1.45581573e-01 -5.79306364e-01\n",
      " -2.15961903e-01  2.00221017e-01 -1.44291237e-01  1.55548779e-02\n",
      " -1.51082218e-01 -1.85647726e-01 -5.97744733e-02  4.00730461e-01\n",
      " -1.21685512e-01  1.79317906e-01  1.23980053e-01 -9.99236330e-02\n",
      " -3.77545089e-01 -3.99279177e-01 -1.15816005e-01 -1.14800572e-01\n",
      " -2.37178355e-01 -6.36902750e-02  4.69501391e-02 -1.75020158e-01\n",
      " -3.57451439e-02  1.75562620e-01 -5.01330614e-01  1.67703018e-01\n",
      " -5.46249211e-01  3.72125208e-01  1.22280069e-01 -3.85636836e-01\n",
      "  3.26206595e-01  3.21850157e-03 -1.58261225e-01 -2.84482807e-01\n",
      "  2.06558019e-01 -1.13762945e-01 -8.24890360e-02  1.71906482e-02\n",
      "  3.94861735e-02 -5.55182062e-02  1.36692002e-01 -1.85397536e-01\n",
      "  8.93271491e-02  2.16753751e-01  3.63940775e-01 -1.61778077e-01\n",
      "  1.23735458e-01 -1.88718066e-01  1.57212198e-01  3.30593616e-01\n",
      " -2.43761949e-02 -1.21033788e-01 -2.31421560e-01  5.13560958e-02\n",
      "  6.81149289e-02 -1.99177727e-01  2.28809223e-01  4.10121977e-01\n",
      " -1.09621398e-01  2.19920594e-02  2.30903596e-01  2.81866968e-01\n",
      " -4.63651121e-02 -2.64542460e-01  3.72026294e-01  2.80143887e-01\n",
      " -6.06118180e-02 -1.96077898e-01 -5.77612296e-02  2.32217565e-01\n",
      " -5.79673350e-01 -1.16860412e-01  1.80489466e-01  1.00261882e-01\n",
      "  1.73599236e-02 -2.34466821e-01  4.83351387e-02  2.77761426e-02\n",
      " -1.84262201e-01 -3.01544249e-01 -2.98844725e-01  1.28304541e-01\n",
      " -1.11730471e-01  1.27851158e-01 -7.83494934e-02 -2.15486944e-01\n",
      "  7.78737441e-02  2.22287625e-02  3.98084857e-02 -2.14018807e-01\n",
      " -7.30904713e-02  3.42078626e-01 -1.42774522e-01 -3.56208831e-01\n",
      " -3.03190827e-01 -3.13620239e-01 -2.44690120e-01 -7.29928389e-02\n",
      "  1.91642508e-01  5.79660721e-02  2.18604386e-01  9.16115046e-02\n",
      " -9.61007997e-02 -1.02211274e-01 -3.56836110e-01 -4.48210351e-02\n",
      "  2.65163392e-01 -5.44713475e-02 -1.81934446e-01  1.71885431e-01\n",
      " -9.95378848e-03 -8.25297683e-02  4.15068209e-01  5.11722326e-01\n",
      " -1.78243127e-02  1.55390397e-01 -3.06786090e-01  2.45295376e-01\n",
      " -2.42271557e-01  4.14174646e-01  1.39889091e-01 -2.20526904e-01\n",
      "  4.28019762e-01  4.73026127e-01 -3.10610592e-01  1.68190330e-01\n",
      "  3.11606467e-01 -3.46529216e-01  1.71060592e-01  2.80470312e-01\n",
      " -1.83961600e-01 -4.80704576e-01 -1.99914388e-02 -3.03173900e-01\n",
      "  4.50625062e-01  2.53284182e-02 -2.64655828e-01  2.21883193e-01\n",
      " -1.61959112e-01 -2.15203892e-02  3.54571462e-01 -1.83874652e-01\n",
      " -2.30354398e-01 -3.26597363e-01  3.63359034e-01  5.69498353e-02\n",
      " -2.63665557e-01  3.20394933e-01  5.79660162e-02  6.89752460e-01\n",
      "  1.39781028e-01  2.08797574e-01 -3.57505083e-01  2.71503538e-01\n",
      " -4.75722134e-01 -3.89676839e-01 -3.84083539e-01 -6.54620901e-02\n",
      "  1.25828430e-01  1.75039798e-01  4.30576116e-01  8.42834562e-02\n",
      " -3.53537053e-01 -3.01930040e-01 -3.81685734e-01  9.46981311e-02\n",
      "  3.19569468e-01 -3.04679610e-02 -1.55992731e-01  1.40076861e-01\n",
      "  4.54469979e-01  1.87752038e-01 -4.34330165e-01 -3.36561650e-01\n",
      " -2.43304893e-01 -5.12914471e-02 -3.86076838e-01 -1.31455511e-01\n",
      "  3.29597384e-01  5.98544665e-02  2.71482944e-01  4.43762429e-02\n",
      " -3.38587850e-01  1.34353250e-01 -2.80670255e-01  3.91740128e-02\n",
      "  4.97988076e-04  5.07466756e-02 -4.13990170e-01 -5.00662506e-01\n",
      "  3.99733812e-01  2.55323976e-01  2.10515410e-01 -1.00221708e-02\n",
      " -1.31639525e-01  8.17499608e-02  3.49319190e-01  2.67673098e-02\n",
      " -1.66975453e-01  1.48905471e-01 -2.67456889e-01 -1.86470166e-01\n",
      "  6.13197265e-03  4.37734229e-03 -1.58091784e-01  1.30705580e-01\n",
      " -3.75738889e-01  1.25106990e-01 -9.37971026e-02 -2.47926325e-01\n",
      "  1.44680038e-01 -1.72813594e-01  4.92290929e-02  1.72576308e-01\n",
      "  2.33222723e-01  5.18944323e-01 -8.22847560e-02  1.37743384e-01\n",
      "  3.95356506e-01  2.63759911e-01  1.50455445e-01  5.07243648e-02\n",
      "  1.60836563e-01  1.70833141e-01 -1.91045299e-01  1.27998933e-01\n",
      "  1.51103646e-01 -9.34663042e-02 -6.71202615e-02 -1.23555318e-01\n",
      " -4.37097043e-01  2.22026363e-01 -2.65509218e-01  4.40407693e-02\n",
      "  4.58908491e-02  3.23144943e-01  9.64768901e-02 -6.27133250e-02\n",
      "  2.31591135e-01  1.25390247e-01 -3.79629850e-01  7.40168840e-02\n",
      " -3.61439437e-02  1.76986620e-01 -2.04959959e-01  2.77587175e-01\n",
      " -3.08197498e-01  2.12127537e-01 -1.80943638e-01  2.28450790e-01\n",
      "  1.57648101e-01 -4.85943183e-02 -5.19472003e-01  2.19952866e-01\n",
      " -1.19839720e-01  2.45047554e-01  2.08728701e-01 -2.00406134e-01\n",
      " -6.63296580e-02  5.41087538e-02  1.35026529e-01 -5.18082559e-01\n",
      "  2.58962780e-01  3.56682032e-01  2.67015165e-03  9.40523520e-02\n",
      "  1.74398944e-01  1.90935180e-01 -9.35079828e-02  1.97879821e-01\n",
      "  1.07491933e-01  6.03738427e-02  2.75185138e-01  2.43538395e-02\n",
      "  1.02511682e-02  1.12236604e-01  8.55981186e-02  5.90690337e-02\n",
      " -1.26150221e-01 -4.16291833e-01 -4.58679706e-01  6.01502508e-02\n",
      "  1.93837926e-01  2.43027173e-02 -1.96144074e-01  2.89517581e-01\n",
      " -2.34025065e-02  2.56240308e-01 -2.15958685e-01 -2.70180684e-02\n",
      " -2.09396943e-01  4.71658967e-02 -2.67755359e-01 -4.58028615e-01]\n"
     ]
    },
    {
     "name": "stderr",
     "output_type": "stream",
     "text": [
      "/home/asr8r/.conda/envs/akbert/lib/python3.8/site-packages/sklearn/linear_model/_sag.py:328: ConvergenceWarning: The max_iter was reached which means the coef_ did not converge\n",
      "  warnings.warn(\"The max_iter was reached which means \"\n"
     ]
    }
   ],
   "source": [
    "from sklearn.metrics import roc_curve\n",
    "from sklearn.metrics import roc_auc_score\n",
    "import matplotlib.pyplot as plt\n",
    "\n",
    "\n",
    "#Create test splits and logistic regression\n",
    "train_features, test_features, train_labels, test_labels = train_test_split(features, labels)\n",
    "\n",
    "lgr = LogisticRegression(solver=\"sag\")\n",
    "lgr.fit(train_features, train_labels)\n",
    "\n",
    "# Save predicted values and predicted value probabilities (prob of being classed \"+\")\n",
    "pred = lgr.predict(test_features)\n",
    "pred_prob = lgr.predict_proba(test_features)[:, 1]\n",
    "\n",
    "\n",
    "print(\"Test accuracy:\")\n",
    "print(lgr.score(test_features,test_labels))\n",
    "print(\"Vector with coefficient values for theta_1, theta_2\")\n",
    "print(\"theta_0:\",lgr.intercept_[0],\"theta_1, theta_2: = \",lgr.coef_[0])"
   ]
  },
  {
   "cell_type": "code",
   "execution_count": 40,
   "metadata": {},
   "outputs": [
    {
     "data": {
      "text/plain": [
       "Text(0.5, 1.0, 'Innovation Data ROC Curve; AUC=0.9314')"
      ]
     },
     "execution_count": 40,
     "metadata": {},
     "output_type": "execute_result"
    },
    {
     "data": {
      "image/png": "[encoded data removed]",
      "text/plain": [
       "<Figure size 432x288 with 1 Axes>"
      ]
     },
     "metadata": {
      "needs_background": "light"
     },
     "output_type": "display_data"
    }
   ],
   "source": [
    "# ROC Graph\n",
    "fpr, tpr, thresholds = roc_curve(test_labels, pred_prob)\n",
    "auc = roc_auc_score(test_labels, pred_prob)\n",
    "\n",
    "plt.plot(fpr, tpr)\n",
    "plt.plot([0, 1], [0, 1], linestyle='--', color=\"red\")\n",
    "plt.xlabel(\"False Positive Rate\")\n",
    "plt.ylabel(\"True Positive Rate\")\n",
    "plt.title(\"Innovation Data ROC Curve; AUC={}\".format(round(auc, 4)))"
   ]
  },
  {
   "cell_type": "code",
   "execution_count": 41,
   "metadata": {},
   "outputs": [
    {
     "name": "stdout",
     "output_type": "stream",
     "text": [
      "Accuracy: 0.9009009009009009\n",
      "Precision: 0.873015873015873\n",
      "Recall: 0.9482758620689655\n",
      "F1: 0.9090909090909091\n",
      "[[45  8]\n",
      " [ 3 55]]\n"
     ]
    },
    {
     "data": {
      "image/png": "[encoded data removed]",
      "text/plain": [
       "<Figure size 432x288 with 2 Axes>"
      ]
     },
     "metadata": {
      "needs_background": "light"
     },
     "output_type": "display_data"
    }
   ],
   "source": [
    "from sklearn.metrics import classification_report, confusion_matrix\n",
    "from sklearn import svm, datasets\n",
    "from sklearn.metrics import plot_confusion_matrix\n",
    "import seaborn as sns\n",
    "\n",
    "from sklearn import metrics\n",
    "cm = metrics.confusion_matrix(test_labels, pred)\n",
    "\n",
    "\n",
    "class_names=[0,1] # name  of classes\n",
    "fig, ax = plt.subplots()\n",
    "tick_marks = np.arange(len(class_names))\n",
    "plt.xticks(tick_marks, class_names)\n",
    "plt.yticks(tick_marks, class_names)\n",
    "\n",
    "# create heatmap\n",
    "labels = [\"True Neg\",\"False Pos\",\"False Neg\",\"True Pos\"]\n",
    "labels = np.asarray(labels).reshape(2,2)\n",
    "sns.heatmap(pd.DataFrame(cm), annot=labels, cmap=\"Greens\" ,fmt='')\n",
    "\n",
    "ax.xaxis.set_label_position(\"top\")\n",
    "plt.tight_layout()\n",
    "plt.title('Confusion matrix', y=1.1)\n",
    "plt.ylabel('Actual Innovation')\n",
    "plt.xlabel('Predicted Innovation')\n",
    "\n",
    "print(\"Accuracy:\",metrics.accuracy_score(test_labels, pred))\n",
    "print(\"Precision:\",metrics.precision_score(test_labels, pred))\n",
    "print(\"Recall:\",metrics.recall_score(test_labels, pred))\n",
    "print(\"F1:\", metrics.f1_score(test_labels, pred))\n",
    "print(cm)"
   ]
  },
  {
   "cell_type": "code",
   "execution_count": 44,
   "metadata": {},
   "outputs": [
    {
     "data": {
      "text/plain": [
       "Text(0.5, 15.0, 'Predicted Innovation')"
      ]
     },
     "execution_count": 44,
     "metadata": {},
     "output_type": "execute_result"
    },
    {
     "data": {
      "image/png": "[encoded data removed]",
      "text/plain": [
       "<Figure size 432x288 with 2 Axes>"
      ]
     },
     "metadata": {
      "needs_background": "light"
     },
     "output_type": "display_data"
    }
   ],
   "source": [
    "group_names = [\"True Neg\",\"False Pos\",\"False Neg\",\"True Pos\"]\n",
    "group_counts = [\"{0:0.0f}\".format(value) for value in\n",
    "                cm.flatten()]\n",
    "group_percentages = [\"{0:.2%}\".format(value) for value in\n",
    "                     cm.flatten()/np.sum(cm)]\n",
    "labels = [f\"{v1}\\n{v2}\\n{v3}\" for v1, v2, v3 in\n",
    "          zip(group_names,group_counts,group_percentages)]\n",
    "labels = np.asarray(labels).reshape(2,2)\n",
    "sns.heatmap(cm, annot=labels, fmt='', cmap='Greens')\n",
    "\n",
    "ax.xaxis.set_label_position(\"top\")\n",
    "plt.tight_layout()\n",
    "plt.title('Confusion matrix', y=1.1)\n",
    "plt.ylabel('Actual Innovation')\n",
    "plt.xlabel('Predicted Innovation')"
   ]
  },
  {
   "cell_type": "code",
   "execution_count": 45,
   "metadata": {},
   "outputs": [
    {
     "name": "stdout",
     "output_type": "stream",
     "text": [
      "                                            full_text  YN_INNOVATION\n",
      "26  DJ Synacor Files 8K - Regulation FD >SYNC Syna...              0\n"
     ]
    }
   ],
   "source": [
    "print(df.loc[[26]])"
   ]
  },
  {
   "cell_type": "code",
   "execution_count": null,
   "metadata": {},
   "outputs": [],
   "source": []
  }
 ],
 "metadata": {
  "kernelspec": {
   "display_name": "Python [conda env:.conda-akbert]",
   "language": "python",
   "name": "conda-env-.conda-akbert-py"
  },
  "language_info": {
   "codemirror_mode": {
    "name": "ipython",
    "version": 3
   },
   "file_extension": ".py",
   "mimetype": "text/x-python",
   "name": "python",
   "nbconvert_exporter": "python",
   "pygments_lexer": "ipython3",
   "version": "3.8.10"
  }
 },
 "nbformat": 4,
 "nbformat_minor": 4
}
