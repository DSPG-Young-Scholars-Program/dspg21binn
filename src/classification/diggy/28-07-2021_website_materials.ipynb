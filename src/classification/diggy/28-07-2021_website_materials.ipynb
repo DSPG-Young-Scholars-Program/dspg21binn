{
 "cells": [
  {
   "cell_type": "markdown",
   "metadata": {},
   "source": [
    "# Libraries"
   ]
  },
  {
   "cell_type": "code",
   "execution_count": 7,
   "metadata": {},
   "outputs": [],
   "source": [
    "## Importing all relevant libraries\n",
    "\n",
    "import random\n",
    "import numpy as np\n",
    "import pandas as pd\n",
    "\n",
    "from sklearn import preprocessing\n",
    "from sklearn.decomposition import PCA\n",
    "from sklearn.preprocessing import StandardScaler\n",
    "from sklearn.model_selection import train_test_split\n",
    "from sklearn.pipeline import make_pipeline\n",
    "from sklearn import svm\n",
    "from sklearn import metrics\n",
    "from sklearn.metrics import roc_curve, roc_auc_score\n",
    "from sklearn.model_selection import cross_val_score\n",
    "from sklearn.linear_model import LogisticRegression\n",
    "\n",
    "from transformers import pipeline\n",
    "from transformers import AutoTokenizer, AutoModel\n",
    "\n",
    "import torch\n",
    "\n",
    "import matplotlib.pyplot as plt\n",
    "%matplotlib inline\n",
    "from mpl_toolkits.mplot3d import Axes3D\n",
    "import seaborn as sns"
   ]
  },
  {
   "cell_type": "markdown",
   "metadata": {},
   "source": [
    "# The Data"
   ]
  },
  {
   "cell_type": "code",
   "execution_count": 8,
   "metadata": {},
   "outputs": [
    {
     "name": "stdout",
     "output_type": "stream",
     "text": [
      "Value counts for target variable:\n",
      " yes    222\n",
      "no     222\n",
      "Name: YN_INNOVATION, dtype: int64\n",
      "\n",
      "\n",
      "\n",
      "The target variable classes are: ['no' 'yes']\n"
     ]
    }
   ],
   "source": [
    "df = pd.read_excel(\"/project/class/bii_sdad_dspg/uva_2021/binn/Data_600_Labeled_Final.xlsx\", index_col=0) ## Reading in data\n",
    "df_save = df.reset_index(inplace=False, drop = True)\n",
    "#df = df[['full_text', 'YN_INNOVATION']].reset_index(inplace=False, drop = True)\n",
    "df = df.reset_index(inplace=False, drop = True)\n",
    "\n",
    "## Balancing target class \n",
    "\n",
    "df_yes = df[df.YN_INNOVATION == 'yes']\n",
    "df_no = df[df.YN_INNOVATION == 'no']\n",
    "\n",
    "if len(df_yes) == len(df_no):\n",
    "    df_yes = df_yes.append(df_no)\n",
    "    df = df_yes\n",
    "    \n",
    "elif len(df_yes) > len(df_no):\n",
    "    df_yes = df_yes.sample(n=len(df_no), random_state = 65432)\n",
    "    df_yes = df_yes.append(df_no)\n",
    "    df = df_yes\n",
    "    \n",
    "elif len(df_no) > len(df_yes):\n",
    "    df_no = df_no.sample(n=len(df_yes), random_state = 65432)\n",
    "    df_yes = df_yes.append(df_no)\n",
    "    df = df_yes\n",
    "    \n",
    "df = df.sample(n=len(df), random_state = 65432).reset_index(inplace=False, drop = True)\n",
    "\n",
    "    \n",
    "print(\"Value counts for target variable:\\n\",df.YN_INNOVATION.value_counts())\n",
    "\n",
    "## Encoding target variable\n",
    "\n",
    "le = preprocessing.LabelEncoder()\n",
    "df.YN_INNOVATION = le.fit_transform(df.YN_INNOVATION)\n",
    "print(\"\\n\\n\\nThe target variable classes are:\", le.classes_)"
   ]
  },
  {
   "cell_type": "markdown",
   "metadata": {},
   "source": [
    "# CLASSIFICATION"
   ]
  },
  {
   "cell_type": "code",
   "execution_count": 9,
   "metadata": {},
   "outputs": [],
   "source": [
    "labels = df.YN_INNOVATION ## Target variable"
   ]
  },
  {
   "cell_type": "markdown",
   "metadata": {},
   "source": [
    "## BERT BASE UNCASED RBF KERNEL BASED SVM"
   ]
  },
  {
   "cell_type": "code",
   "execution_count": 10,
   "metadata": {},
   "outputs": [],
   "source": [
    "## NLP Models from Hugging Face, pretrained_weights object is changed according to required model\n",
    "model_class, tokenizer_class, pretrained_weights = (AutoModel, \n",
    "                                                    AutoTokenizer, \n",
    "                                                    [ 'distilbert-base-uncased', 'google/bigbird-roberta-base'])"
   ]
  },
  {
   "cell_type": "code",
   "execution_count": 11,
   "metadata": {},
   "outputs": [
    {
     "name": "stderr",
     "output_type": "stream",
     "text": [
      "Some weights of the model checkpoint at distilbert-base-uncased were not used when initializing DistilBertModel: ['vocab_projector.weight', 'vocab_transform.weight', 'vocab_layer_norm.weight', 'vocab_transform.bias', 'vocab_layer_norm.bias', 'vocab_projector.bias']\n",
      "- This IS expected if you are initializing DistilBertModel from the checkpoint of a model trained on another task or with another architecture (e.g. initializing a BertForSequenceClassification model from a BertForPreTraining model).\n",
      "- This IS NOT expected if you are initializing DistilBertModel from the checkpoint of a model that you expect to be exactly identical (initializing a BertForSequenceClassification model from a BertForSequenceClassification model).\n"
     ]
    },
    {
     "name": "stdout",
     "output_type": "stream",
     "text": [
      "The shape of the attention mask is: (444, 512) for distilbert-base-uncased\n"
     ]
    },
    {
     "name": "stderr",
     "output_type": "stream",
     "text": [
      "Some weights of the model checkpoint at google/bigbird-roberta-base were not used when initializing BigBirdModel: ['cls.predictions.decoder.bias', 'cls.predictions.transform.dense.bias', 'cls.predictions.transform.dense.weight', 'cls.seq_relationship.bias', 'cls.predictions.transform.LayerNorm.weight', 'cls.predictions.bias', 'cls.seq_relationship.weight', 'cls.predictions.decoder.weight', 'cls.predictions.transform.LayerNorm.bias']\n",
      "- This IS expected if you are initializing BigBirdModel from the checkpoint of a model trained on another task or with another architecture (e.g. initializing a BertForSequenceClassification model from a BertForPreTraining model).\n",
      "- This IS NOT expected if you are initializing BigBirdModel from the checkpoint of a model that you expect to be exactly identical (initializing a BertForSequenceClassification model from a BertForSequenceClassification model).\n",
      "Attention type 'block_sparse' is not possible if sequence_length: 512 <= num global tokens: 2 * config.block_size + min. num sliding tokens: 3 * config.block_size + config.num_random_blocks * config.block_size + additional buffer: config.num_random_blocks * config.block_size = 704 with config.block_size = 64, config.num_random_blocks = 3.Changing attention type to 'original_full'...\n"
     ]
    },
    {
     "name": "stdout",
     "output_type": "stream",
     "text": [
      "The shape of the attention mask is: (444, 512) for google/bigbird-roberta-base\n"
     ]
    }
   ],
   "source": [
    "features_dict = {} ## Empty dict to store features\n",
    "\n",
    "for weights in pretrained_weights:\n",
    "    # Load pretrained model/tokenizer\n",
    "    tokenizer = tokenizer_class.from_pretrained(weights)\n",
    "    model = model_class.from_pretrained(weights)\n",
    "    ## Tokenization\n",
    "    tokenized = df['full_text'].apply((lambda x: tokenizer.encode(x,\n",
    "                                                                  add_special_tokens=True, \n",
    "                                                                  truncation=True,\n",
    "                                                                  max_length=512)))\n",
    "    ## Padding\n",
    "    max_len = 0\n",
    "    for i in tokenized.values:\n",
    "        if len(i) > max_len:\n",
    "            max_len = len(i)\n",
    "\n",
    "    padded = np.array([i + [0]*(max_len-len(i)) for i in tokenized.values])\n",
    "\n",
    "    ## Attention Mask\n",
    "    attention_mask = np.where(padded != 0, 1, 0)\n",
    "    print(\"The shape of the attention mask is:\", attention_mask.shape, \"for\", weights)\n",
    "\n",
    "    input_ids = torch.tensor(padded)\n",
    "    attention_mask = torch.tensor(attention_mask)\n",
    "\n",
    "    with torch.no_grad():\n",
    "        last_hidden_states = model(input_ids, attention_mask=attention_mask)\n",
    "\n",
    "    ## Features\n",
    "    features = last_hidden_states[0][:,0,:].numpy()\n",
    "    features_dict.update({weights:features})"
   ]
  },
  {
   "cell_type": "code",
   "execution_count": 12,
   "metadata": {},
   "outputs": [
    {
     "data": {
      "text/plain": [
       "{'distilbert-base-uncased': array([[-0.2456288 ,  0.00811539,  0.03792296, ..., -0.2318283 ,\n",
       "          0.5524184 ,  0.24053887],\n",
       "        [-0.40273327,  0.07335662, -0.1849104 , ..., -0.14998093,\n",
       "          0.33042708,  0.39937165],\n",
       "        [-0.1409555 , -0.18729596,  0.01294378, ..., -0.25833228,\n",
       "          0.26155674,  0.21453358],\n",
       "        ...,\n",
       "        [-0.31572565, -0.35711145,  0.12567568, ...,  0.05902517,\n",
       "          0.32910675,  0.29650986],\n",
       "        [-0.04902904, -0.01457188, -0.21376294, ...,  0.07341403,\n",
       "          0.58608055,  0.29470202],\n",
       "        [-0.25263914, -0.0041946 , -0.03589789, ..., -0.12545717,\n",
       "          0.39904007,  0.3643861 ]], dtype=float32),\n",
       " 'google/bigbird-roberta-base': array([[ 0.26742566,  0.35120788,  0.04151607, ...,  0.00136495,\n",
       "         -0.2628075 ,  0.36169332],\n",
       "        [ 0.13757473,  0.24778059,  0.03712941, ...,  0.08633371,\n",
       "         -0.04851794,  0.22073507],\n",
       "        [ 0.04283896,  0.43629947, -0.00428134, ..., -0.01148461,\n",
       "         -0.28737321,  0.31200486],\n",
       "        ...,\n",
       "        [ 0.18683957,  0.40250763,  0.05078065, ..., -0.05550509,\n",
       "         -0.2725118 ,  0.03573284],\n",
       "        [ 0.14779225,  0.43724298, -0.04368048, ..., -0.16341372,\n",
       "         -0.20740509,  0.03008511],\n",
       "        [ 0.23664068,  0.19060698, -0.08698776, ..., -0.06197204,\n",
       "         -0.2266618 ,  0.10811306]], dtype=float32)}"
      ]
     },
     "execution_count": 12,
     "metadata": {},
     "output_type": "execute_result"
    }
   ],
   "source": [
    "features_dict"
   ]
  },
  {
   "cell_type": "code",
   "execution_count": 57,
   "metadata": {},
   "outputs": [],
   "source": [
    "## Splitting th data into train and test sets of features and target\n",
    "train_features_dict = {}\n",
    "test_features_dict = {}\n",
    "train_labels_dict = {}\n",
    "test_labels_dict = {}\n",
    "\n",
    "for weights, features in features_dict.items():\n",
    "    train_features, test_features, train_labels, test_labels = train_test_split(features, labels, random_state = 65432)\n",
    "    train_features_dict.update({weights:train_features})\n",
    "    test_features_dict.update({weights:test_features})\n",
    "    train_labels_dict.update({weights:train_labels})\n",
    "    test_labels_dict.update({weights:test_labels})"
   ]
  },
  {
   "cell_type": "code",
   "execution_count": 58,
   "metadata": {},
   "outputs": [
    {
     "data": {
      "text/plain": [
       "['distilbert-base-uncased', 'google/bigbird-roberta-base']"
      ]
     },
     "execution_count": 58,
     "metadata": {},
     "output_type": "execute_result"
    }
   ],
   "source": [
    "pretrained_weights"
   ]
  },
  {
   "cell_type": "code",
   "execution_count": 59,
   "metadata": {},
   "outputs": [
    {
     "name": "stderr",
     "output_type": "stream",
     "text": [
      "/home/far3jh/.conda/envs/DiggyConda/lib/python3.8/site-packages/sklearn/linear_model/_sag.py:328: ConvergenceWarning: The max_iter was reached which means the coef_ did not converge\n",
      "  warnings.warn(\"The max_iter was reached which means \"\n",
      "/home/far3jh/.conda/envs/DiggyConda/lib/python3.8/site-packages/sklearn/linear_model/_sag.py:328: ConvergenceWarning: The max_iter was reached which means the coef_ did not converge\n",
      "  warnings.warn(\"The max_iter was reached which means \"\n"
     ]
    }
   ],
   "source": [
    "test_labels_predict_dict = {}\n",
    "test_labels_predict_proba_dict = {}\n",
    "\n",
    "model = 'lr' ## while inside of loop to loop on different ML methods:\n",
    "\n",
    "for key in pretrained_weights:\n",
    "    if key == 'distilbert-base-uncased':\n",
    "        while model == \"lr\": ## Support Vector Machine DISTILBERT\n",
    "            clf = make_pipeline(StandardScaler(), LogisticRegression(solver=\"sag\", random_state = 65432))\n",
    "            clf.fit(train_features_dict[key],train_labels_dict[key])\n",
    "            predicted_y = clf.predict(test_features_dict[key])\n",
    "            pred_prob = clf.predict_proba(test_features_dict[key])[:, 1]\n",
    "            test_labels_predict_dict.update({key+\"_\"+\"lr\":predicted_y})\n",
    "            test_labels_predict_proba_dict.update({key+\"_\"+\"lr\":pred_prob})\n",
    "            model = \"svm\"\n",
    "        while model == \"svm\": ## Logistic Regression DISTILBERT\n",
    "            clf = make_pipeline(StandardScaler(), svm.SVC(kernel = \"rbf\", probability=True, random_state = 65432))\n",
    "            clf.fit(train_features_dict[key],train_labels_dict[key])\n",
    "            predicted_y = clf.predict(test_features_dict[key])\n",
    "            pred_prob = clf.predict_proba(test_features_dict[key])[:, 1]\n",
    "            test_labels_predict_dict.update({key+\"_\"+\"rbf-kernel\":predicted_y})\n",
    "            test_labels_predict_proba_dict.update({key+\"_\"+\"rbf-kernel\":pred_prob})\n",
    "            model = None\n",
    "            \n",
    "    elif key == 'google/bigbird-roberta-base':\n",
    "        clf = make_pipeline(StandardScaler(), LogisticRegression(solver=\"sag\", random_state = 65432))\n",
    "        clf.fit(train_features_dict[key],train_labels_dict[key])\n",
    "        predicted_y = clf.predict(test_features_dict[key])\n",
    "        pred_prob = clf.predict_proba(test_features_dict[key])[:, 1]\n",
    "        test_labels_predict_dict.update({key+\"_\"+\"lr\":predicted_y})\n",
    "        test_labels_predict_proba_dict.update({key+\"_\"+\"lr\":pred_prob})\n"
   ]
  },
  {
   "cell_type": "code",
   "execution_count": 60,
   "metadata": {},
   "outputs": [
    {
     "data": {
      "text/plain": [
       "{'distilbert-base-uncased_lr': array([0, 1, 0, 1, 0, 1, 1, 1, 1, 1, 1, 0, 0, 0, 0, 1, 1, 1, 1, 1, 0, 0,\n",
       "        0, 1, 0, 0, 1, 0, 0, 1, 0, 1, 1, 1, 0, 1, 1, 1, 1, 1, 1, 1, 1, 0,\n",
       "        0, 0, 1, 0, 0, 0, 1, 1, 1, 1, 1, 0, 0, 1, 0, 0, 1, 1, 0, 1, 0, 1,\n",
       "        1, 0, 1, 1, 0, 1, 1, 1, 1, 0, 1, 0, 0, 1, 1, 1, 1, 0, 0, 0, 0, 1,\n",
       "        1, 0, 1, 1, 1, 0, 1, 1, 1, 0, 0, 1, 1, 0, 1, 0, 1, 0, 1, 1, 0, 0,\n",
       "        1]),\n",
       " 'distilbert-base-uncased_rbf-kernel': array([0, 1, 1, 1, 1, 0, 1, 1, 1, 1, 1, 0, 0, 0, 1, 1, 1, 1, 1, 1, 0, 0,\n",
       "        0, 1, 0, 0, 1, 0, 1, 0, 0, 1, 1, 1, 0, 1, 1, 1, 1, 1, 1, 1, 1, 0,\n",
       "        0, 0, 1, 0, 0, 0, 1, 1, 1, 1, 1, 0, 1, 1, 0, 0, 1, 1, 0, 1, 0, 1,\n",
       "        1, 0, 1, 1, 0, 1, 1, 1, 1, 0, 1, 0, 0, 1, 1, 1, 1, 0, 0, 0, 0, 1,\n",
       "        1, 0, 1, 1, 1, 0, 1, 1, 1, 0, 0, 1, 1, 0, 1, 0, 1, 1, 0, 1, 0, 0,\n",
       "        1]),\n",
       " 'google/bigbird-roberta-base_lr': array([0, 0, 1, 1, 0, 0, 1, 1, 1, 1, 1, 0, 0, 0, 1, 1, 1, 1, 1, 1, 0, 0,\n",
       "        0, 1, 0, 0, 1, 0, 1, 0, 0, 1, 1, 1, 0, 1, 1, 1, 1, 1, 1, 1, 1, 0,\n",
       "        0, 0, 1, 0, 0, 1, 1, 1, 1, 1, 1, 0, 1, 1, 0, 0, 0, 1, 0, 1, 0, 1,\n",
       "        1, 0, 1, 1, 0, 1, 1, 1, 1, 0, 1, 0, 0, 1, 1, 1, 0, 0, 0, 1, 0, 1,\n",
       "        1, 0, 0, 1, 1, 0, 1, 1, 1, 0, 0, 0, 0, 0, 1, 0, 1, 0, 1, 1, 0, 0,\n",
       "        1])}"
      ]
     },
     "execution_count": 60,
     "metadata": {},
     "output_type": "execute_result"
    }
   ],
   "source": [
    "test_labels_predict_dict"
   ]
  },
  {
   "cell_type": "code",
   "execution_count": 61,
   "metadata": {},
   "outputs": [
    {
     "data": {
      "text/plain": [
       "['distilbert-base-uncased', 'google/bigbird-roberta-base']"
      ]
     },
     "execution_count": 61,
     "metadata": {},
     "output_type": "execute_result"
    }
   ],
   "source": [
    "pretrained_weights"
   ]
  },
  {
   "cell_type": "code",
   "execution_count": 62,
   "metadata": {},
   "outputs": [
    {
     "data": {
      "text/plain": [
       "{}"
      ]
     },
     "execution_count": 62,
     "metadata": {},
     "output_type": "execute_result"
    }
   ],
   "source": [
    "cv_scores_dict"
   ]
  },
  {
   "cell_type": "code",
   "execution_count": null,
   "metadata": {},
   "outputs": [],
   "source": []
  },
  {
   "cell_type": "code",
   "execution_count": 63,
   "metadata": {},
   "outputs": [
    {
     "data": {
      "text/plain": [
       "{'distilbert-base-uncased': array([[-0.2456288 ,  0.00811539,  0.03792296, ..., -0.2318283 ,\n",
       "          0.5524184 ,  0.24053887],\n",
       "        [-0.40273327,  0.07335662, -0.1849104 , ..., -0.14998093,\n",
       "          0.33042708,  0.39937165],\n",
       "        [-0.1409555 , -0.18729596,  0.01294378, ..., -0.25833228,\n",
       "          0.26155674,  0.21453358],\n",
       "        ...,\n",
       "        [-0.31572565, -0.35711145,  0.12567568, ...,  0.05902517,\n",
       "          0.32910675,  0.29650986],\n",
       "        [-0.04902904, -0.01457188, -0.21376294, ...,  0.07341403,\n",
       "          0.58608055,  0.29470202],\n",
       "        [-0.25263914, -0.0041946 , -0.03589789, ..., -0.12545717,\n",
       "          0.39904007,  0.3643861 ]], dtype=float32),\n",
       " 'google/bigbird-roberta-base': array([[ 0.26742566,  0.35120788,  0.04151607, ...,  0.00136495,\n",
       "         -0.2628075 ,  0.36169332],\n",
       "        [ 0.13757473,  0.24778059,  0.03712941, ...,  0.08633371,\n",
       "         -0.04851794,  0.22073507],\n",
       "        [ 0.04283896,  0.43629947, -0.00428134, ..., -0.01148461,\n",
       "         -0.28737321,  0.31200486],\n",
       "        ...,\n",
       "        [ 0.18683957,  0.40250763,  0.05078065, ..., -0.05550509,\n",
       "         -0.2725118 ,  0.03573284],\n",
       "        [ 0.14779225,  0.43724298, -0.04368048, ..., -0.16341372,\n",
       "         -0.20740509,  0.03008511],\n",
       "        [ 0.23664068,  0.19060698, -0.08698776, ..., -0.06197204,\n",
       "         -0.2266618 ,  0.10811306]], dtype=float32)}"
      ]
     },
     "execution_count": 63,
     "metadata": {},
     "output_type": "execute_result"
    }
   ],
   "source": [
    "features_dict"
   ]
  },
  {
   "cell_type": "code",
   "execution_count": 73,
   "metadata": {},
   "outputs": [
    {
     "data": {
      "text/plain": [
       "{'distilbert-base-uncased_lr': 0.8246892655367232,\n",
       " 'distilbert-base-uncased_rbf-kernel': 0.8596610169491525,\n",
       " 'google/bigbird-roberta-base_lr': 0.8162994350282485}"
      ]
     },
     "execution_count": 73,
     "metadata": {},
     "output_type": "execute_result"
    }
   ],
   "source": [
    "cv_scores_dict"
   ]
  },
  {
   "cell_type": "code",
   "execution_count": null,
   "metadata": {},
   "outputs": [],
   "source": []
  },
  {
   "cell_type": "code",
   "execution_count": 64,
   "metadata": {},
   "outputs": [
    {
     "name": "stderr",
     "output_type": "stream",
     "text": [
      "Some weights of the model checkpoint at distilbert-base-uncased were not used when initializing DistilBertModel: ['vocab_transform.bias', 'vocab_projector.weight', 'vocab_transform.weight', 'vocab_projector.bias', 'vocab_layer_norm.weight', 'vocab_layer_norm.bias']\n",
      "- This IS expected if you are initializing DistilBertModel from the checkpoint of a model trained on another task or with another architecture (e.g. initializing a BertForSequenceClassification model from a BertForPreTraining model).\n",
      "- This IS NOT expected if you are initializing DistilBertModel from the checkpoint of a model that you expect to be exactly identical (initializing a BertForSequenceClassification model from a BertForSequenceClassification model).\n"
     ]
    },
    {
     "name": "stdout",
     "output_type": "stream",
     "text": [
      "The shape of the attention mask is: (599, 512) for distilbert-base-uncased\n"
     ]
    },
    {
     "name": "stderr",
     "output_type": "stream",
     "text": [
      "Some weights of the model checkpoint at google/bigbird-roberta-base were not used when initializing BigBirdModel: ['cls.predictions.transform.dense.bias', 'cls.predictions.transform.LayerNorm.bias', 'cls.seq_relationship.bias', 'cls.predictions.transform.LayerNorm.weight', 'cls.predictions.decoder.bias', 'cls.seq_relationship.weight', 'cls.predictions.transform.dense.weight', 'cls.predictions.decoder.weight', 'cls.predictions.bias']\n",
      "- This IS expected if you are initializing BigBirdModel from the checkpoint of a model trained on another task or with another architecture (e.g. initializing a BertForSequenceClassification model from a BertForPreTraining model).\n",
      "- This IS NOT expected if you are initializing BigBirdModel from the checkpoint of a model that you expect to be exactly identical (initializing a BertForSequenceClassification model from a BertForSequenceClassification model).\n",
      "Attention type 'block_sparse' is not possible if sequence_length: 512 <= num global tokens: 2 * config.block_size + min. num sliding tokens: 3 * config.block_size + config.num_random_blocks * config.block_size + additional buffer: config.num_random_blocks * config.block_size = 704 with config.block_size = 64, config.num_random_blocks = 3.Changing attention type to 'original_full'...\n"
     ]
    },
    {
     "name": "stdout",
     "output_type": "stream",
     "text": [
      "The shape of the attention mask is: (599, 512) for google/bigbird-roberta-base\n"
     ]
    },
    {
     "name": "stderr",
     "output_type": "stream",
     "text": [
      "/home/far3jh/.conda/envs/DiggyConda/lib/python3.8/site-packages/sklearn/linear_model/_sag.py:328: ConvergenceWarning: The max_iter was reached which means the coef_ did not converge\n",
      "  warnings.warn(\"The max_iter was reached which means \"\n",
      "/home/far3jh/.conda/envs/DiggyConda/lib/python3.8/site-packages/sklearn/linear_model/_sag.py:328: ConvergenceWarning: The max_iter was reached which means the coef_ did not converge\n",
      "  warnings.warn(\"The max_iter was reached which means \"\n",
      "/home/far3jh/.conda/envs/DiggyConda/lib/python3.8/site-packages/sklearn/linear_model/_sag.py:328: ConvergenceWarning: The max_iter was reached which means the coef_ did not converge\n",
      "  warnings.warn(\"The max_iter was reached which means \"\n",
      "/home/far3jh/.conda/envs/DiggyConda/lib/python3.8/site-packages/sklearn/linear_model/_sag.py:328: ConvergenceWarning: The max_iter was reached which means the coef_ did not converge\n",
      "  warnings.warn(\"The max_iter was reached which means \"\n",
      "/home/far3jh/.conda/envs/DiggyConda/lib/python3.8/site-packages/sklearn/linear_model/_sag.py:328: ConvergenceWarning: The max_iter was reached which means the coef_ did not converge\n",
      "  warnings.warn(\"The max_iter was reached which means \"\n",
      "/home/far3jh/.conda/envs/DiggyConda/lib/python3.8/site-packages/sklearn/linear_model/_sag.py:328: ConvergenceWarning: The max_iter was reached which means the coef_ did not converge\n",
      "  warnings.warn(\"The max_iter was reached which means \"\n",
      "/home/far3jh/.conda/envs/DiggyConda/lib/python3.8/site-packages/sklearn/linear_model/_sag.py:328: ConvergenceWarning: The max_iter was reached which means the coef_ did not converge\n",
      "  warnings.warn(\"The max_iter was reached which means \"\n",
      "/home/far3jh/.conda/envs/DiggyConda/lib/python3.8/site-packages/sklearn/linear_model/_sag.py:328: ConvergenceWarning: The max_iter was reached which means the coef_ did not converge\n",
      "  warnings.warn(\"The max_iter was reached which means \"\n",
      "/home/far3jh/.conda/envs/DiggyConda/lib/python3.8/site-packages/sklearn/linear_model/_sag.py:328: ConvergenceWarning: The max_iter was reached which means the coef_ did not converge\n",
      "  warnings.warn(\"The max_iter was reached which means \"\n",
      "/home/far3jh/.conda/envs/DiggyConda/lib/python3.8/site-packages/sklearn/linear_model/_sag.py:328: ConvergenceWarning: The max_iter was reached which means the coef_ did not converge\n",
      "  warnings.warn(\"The max_iter was reached which means \"\n",
      "/home/far3jh/.conda/envs/DiggyConda/lib/python3.8/site-packages/sklearn/linear_model/_sag.py:328: ConvergenceWarning: The max_iter was reached which means the coef_ did not converge\n",
      "  warnings.warn(\"The max_iter was reached which means \"\n",
      "/home/far3jh/.conda/envs/DiggyConda/lib/python3.8/site-packages/sklearn/linear_model/_sag.py:328: ConvergenceWarning: The max_iter was reached which means the coef_ did not converge\n",
      "  warnings.warn(\"The max_iter was reached which means \"\n",
      "/home/far3jh/.conda/envs/DiggyConda/lib/python3.8/site-packages/sklearn/linear_model/_sag.py:328: ConvergenceWarning: The max_iter was reached which means the coef_ did not converge\n",
      "  warnings.warn(\"The max_iter was reached which means \"\n",
      "/home/far3jh/.conda/envs/DiggyConda/lib/python3.8/site-packages/sklearn/linear_model/_sag.py:328: ConvergenceWarning: The max_iter was reached which means the coef_ did not converge\n",
      "  warnings.warn(\"The max_iter was reached which means \"\n",
      "/home/far3jh/.conda/envs/DiggyConda/lib/python3.8/site-packages/sklearn/linear_model/_sag.py:328: ConvergenceWarning: The max_iter was reached which means the coef_ did not converge\n",
      "  warnings.warn(\"The max_iter was reached which means \"\n",
      "/home/far3jh/.conda/envs/DiggyConda/lib/python3.8/site-packages/sklearn/linear_model/_sag.py:328: ConvergenceWarning: The max_iter was reached which means the coef_ did not converge\n",
      "  warnings.warn(\"The max_iter was reached which means \"\n",
      "/home/far3jh/.conda/envs/DiggyConda/lib/python3.8/site-packages/sklearn/linear_model/_sag.py:328: ConvergenceWarning: The max_iter was reached which means the coef_ did not converge\n",
      "  warnings.warn(\"The max_iter was reached which means \"\n",
      "/home/far3jh/.conda/envs/DiggyConda/lib/python3.8/site-packages/sklearn/linear_model/_sag.py:328: ConvergenceWarning: The max_iter was reached which means the coef_ did not converge\n",
      "  warnings.warn(\"The max_iter was reached which means \"\n",
      "/home/far3jh/.conda/envs/DiggyConda/lib/python3.8/site-packages/sklearn/linear_model/_sag.py:328: ConvergenceWarning: The max_iter was reached which means the coef_ did not converge\n",
      "  warnings.warn(\"The max_iter was reached which means \"\n",
      "/home/far3jh/.conda/envs/DiggyConda/lib/python3.8/site-packages/sklearn/linear_model/_sag.py:328: ConvergenceWarning: The max_iter was reached which means the coef_ did not converge\n",
      "  warnings.warn(\"The max_iter was reached which means \"\n",
      "/home/far3jh/.conda/envs/DiggyConda/lib/python3.8/site-packages/sklearn/linear_model/_sag.py:328: ConvergenceWarning: The max_iter was reached which means the coef_ did not converge\n",
      "  warnings.warn(\"The max_iter was reached which means \"\n",
      "/home/far3jh/.conda/envs/DiggyConda/lib/python3.8/site-packages/sklearn/linear_model/_sag.py:328: ConvergenceWarning: The max_iter was reached which means the coef_ did not converge\n",
      "  warnings.warn(\"The max_iter was reached which means \"\n"
     ]
    }
   ],
   "source": [
    "## Cross validating with df_save 600 observations\n",
    "#model = \"lr\"\n",
    "cv_scores_dict = {}\n",
    "features_dict = {} ## Empty dict to store features\n",
    "labels = le.fit_transform(df_save[df_save.YN_INNOVATION != \"TOSS\"].YN_INNOVATION) ## Target variable\n",
    "\n",
    "for weights in pretrained_weights:\n",
    "    # Load pretrained model/tokenizer\n",
    "    \n",
    "    tokenizer = tokenizer_class.from_pretrained(weights)\n",
    "    \n",
    "    model = model_class.from_pretrained(weights)\n",
    "    \n",
    "    ## Tokenization\n",
    "    tokenized = df_save[df_save.YN_INNOVATION != \"TOSS\"]['full_text'].apply((lambda x: tokenizer.encode(x,\n",
    "                                                                  add_special_tokens=True, \n",
    "                                                                  truncation=True,\n",
    "                                                                  max_length=512)))\n",
    "    ## Padding\n",
    "    max_len = 0\n",
    "    for i in tokenized.values:\n",
    "        if len(i) > max_len:\n",
    "            max_len = len(i)\n",
    "    \n",
    "    padded = np.array([i + [0]*(max_len-len(i)) for i in tokenized.values])\n",
    "    \n",
    "    ## Attention Mask\n",
    "    attention_mask = np.where(padded != 0, 1, 0)\n",
    "    print(\"The shape of the attention mask is:\", attention_mask.shape, \"for\", weights)\n",
    "    \n",
    "    input_ids = torch.tensor(padded)\n",
    "    attention_mask = torch.tensor(attention_mask)\n",
    "    \n",
    "    with torch.no_grad():\n",
    "        last_hidden_states = model(input_ids, attention_mask=attention_mask)\n",
    "    \n",
    "    ## Features\n",
    "    features = last_hidden_states[0][:,0,:].numpy()\n",
    "    features_dict.update({weights:features})\n",
    "        \n",
    "        \n",
    "        \n",
    "for key in pretrained_weights:\n",
    "    if key == 'distilbert-base-uncased':\n",
    "        ## LR\n",
    "        clf = make_pipeline(StandardScaler(), LogisticRegression(solver=\"sag\", random_state = 65432))\n",
    "        clf.fit(train_features_dict[key],train_labels_dict[key])\n",
    "        scores = cross_val_score(clf, features_dict[key], labels, cv=10)\n",
    "        scores = np.mean(scores)\n",
    "        cv_scores_dict.update({key+\"_\"+\"lr\":scores})\n",
    "        #model = \"svm\"\n",
    "            \n",
    "\n",
    "        clf = make_pipeline(StandardScaler(), svm.SVC(kernel = \"rbf\", probability=True, random_state = 65432))\n",
    "        clf.fit(train_features_dict[key],train_labels_dict[key])\n",
    "        scores = cross_val_score(clf, features_dict[key], labels, cv=10)\n",
    "        scores = np.mean(scores)\n",
    "        cv_scores_dict.update({key+\"_\"+\"rbf-kernel\":scores})\n",
    "        #model = None\n",
    "            \n",
    "    elif key == 'google/bigbird-roberta-base':\n",
    "        clf = make_pipeline(StandardScaler(), LogisticRegression(solver=\"sag\", random_state = 65432))\n",
    "        clf.fit(train_features_dict[key],train_labels_dict[key])\n",
    "        scores = cross_val_score(clf, features_dict[key], labels, cv=10)\n",
    "        scores = np.mean(scores)\n",
    "        cv_scores_dict.update({key+\"_\"+\"lr\":scores})"
   ]
  },
  {
   "cell_type": "code",
   "execution_count": 65,
   "metadata": {},
   "outputs": [
    {
     "name": "stdout",
     "output_type": "stream",
     "text": [
      "distilbert-base-uncased\n",
      "google/bigbird-roberta-base\n"
     ]
    }
   ],
   "source": [
    "for key in pretrained_weights:\n",
    "    print(key)"
   ]
  },
  {
   "cell_type": "code",
   "execution_count": 66,
   "metadata": {},
   "outputs": [
    {
     "data": {
      "text/plain": [
       "{'distilbert-base-uncased_lr': 0.8246892655367232,\n",
       " 'distilbert-base-uncased_rbf-kernel': 0.8596610169491525,\n",
       " 'google/bigbird-roberta-base_lr': 0.8162994350282485}"
      ]
     },
     "execution_count": 66,
     "metadata": {},
     "output_type": "execute_result"
    }
   ],
   "source": [
    "cv_scores_dict"
   ]
  },
  {
   "cell_type": "code",
   "execution_count": 67,
   "metadata": {},
   "outputs": [
    {
     "data": {
      "text/plain": [
       "dict_keys(['distilbert-base-uncased_lr', 'distilbert-base-uncased_rbf-kernel', 'google/bigbird-roberta-base_lr'])"
      ]
     },
     "execution_count": 67,
     "metadata": {},
     "output_type": "execute_result"
    }
   ],
   "source": [
    "test_labels_predict_dict.keys()"
   ]
  },
  {
   "cell_type": "code",
   "execution_count": 74,
   "metadata": {},
   "outputs": [
    {
     "name": "stdout",
     "output_type": "stream",
     "text": [
      "\n",
      "========= distilbert-base-uncased_lr model ==========\n",
      "\n",
      "Accuracy of the of the distilbert-base-uncased_lr model is 87.39%.\n",
      "Precision rate of the distilbert-base-uncased_lr model is 83.08%.\n",
      "Recall rate of the distilbert-base-uncased_lr model is 94.74%.\n",
      "F-1 score of the distilbert-base-uncased_lr model is 88.52%.\n",
      "The Cross Validation score of the distilbert-base-uncased_lr model is 82.47%\n",
      "\n",
      "The confusion matrix for the distilbert-base-uncased_lr model is:\n"
     ]
    },
    {
     "data": {
      "image/png": "[encoded data removed]",
      "text/plain": [
       "<Figure size 576x432 with 2 Axes>"
      ]
     },
     "metadata": {
      "needs_background": "light"
     },
     "output_type": "display_data"
    },
    {
     "data": {
      "image/png": "[encoded data removed]",
      "text/plain": [
       "<Figure size 576x432 with 1 Axes>"
      ]
     },
     "metadata": {
      "needs_background": "light"
     },
     "output_type": "display_data"
    },
    {
     "name": "stdout",
     "output_type": "stream",
     "text": [
      "\n",
      "========= distilbert-base-uncased_rbf-kernel model ==========\n",
      "\n",
      "Accuracy of the of the distilbert-base-uncased_rbf-kernel model is 90.09%.\n",
      "Precision rate of the distilbert-base-uncased_rbf-kernel model is 83.82%.\n",
      "Recall rate of the distilbert-base-uncased_rbf-kernel model is 100.0%.\n",
      "F-1 score of the distilbert-base-uncased_rbf-kernel model is 91.2%.\n",
      "The Cross Validation score of the distilbert-base-uncased_rbf-kernel model is 85.97%\n",
      "\n",
      "The confusion matrix for the distilbert-base-uncased_rbf-kernel model is:\n"
     ]
    },
    {
     "data": {
      "image/png": "[encoded data removed]",
      "text/plain": [
       "<Figure size 576x432 with 2 Axes>"
      ]
     },
     "metadata": {
      "needs_background": "light"
     },
     "output_type": "display_data"
    },
    {
     "data": {
      "image/png": "[encoded data removed]",
      "text/plain": [
       "<Figure size 576x432 with 1 Axes>"
      ]
     },
     "metadata": {
      "needs_background": "light"
     },
     "output_type": "display_data"
    },
    {
     "name": "stdout",
     "output_type": "stream",
     "text": [
      "\n",
      "========= google/bigbird-roberta-base_lr model ==========\n",
      "\n",
      "Accuracy of the of the google/bigbird-roberta-base_lr model is 85.59%.\n",
      "Precision rate of the google/bigbird-roberta-base_lr model is 82.54%.\n",
      "Recall rate of the google/bigbird-roberta-base_lr model is 91.23%.\n",
      "F-1 score of the google/bigbird-roberta-base_lr model is 86.67%.\n",
      "The Cross Validation score of the google/bigbird-roberta-base_lr model is 81.63%\n",
      "\n",
      "The confusion matrix for the google/bigbird-roberta-base_lr model is:\n"
     ]
    },
    {
     "data": {
      "image/png": "[encoded data removed]",
      "text/plain": [
       "<Figure size 576x432 with 2 Axes>"
      ]
     },
     "metadata": {
      "needs_background": "light"
     },
     "output_type": "display_data"
    },
    {
     "data": {
      "image/png": "[encoded data removed]",
      "text/plain": [
       "<Figure size 576x432 with 1 Axes>"
      ]
     },
     "metadata": {
      "needs_background": "light"
     },
     "output_type": "display_data"
    }
   ],
   "source": [
    "labels = df.YN_INNOVATION ## Target variable\n",
    "\n",
    "for key in test_labels_predict_dict.keys():\n",
    "    print(\"\\n=========\",key, \"model ==========\\n\")\n",
    "    key0 = str.split(key, \"_\")[0]\n",
    "    \n",
    "    # Metrics\n",
    "    accuracy = metrics.accuracy_score(test_labels_dict[key0],y_pred=test_labels_predict_dict[key])\n",
    "    precision=metrics.precision_score(test_labels_dict[key0],y_pred=test_labels_predict_dict[key])\n",
    "    recall=metrics.recall_score(test_labels_dict[key0],y_pred=test_labels_predict_dict[key])\n",
    "    f1_score = metrics.f1_score(test_labels_dict[key0],y_pred=test_labels_predict_dict[key])\n",
    "    cv_score = cv_scores_dict[key]\n",
    "    \n",
    "    print(\"Accuracy of the of the\", key ,\"model is {}%.\".format(round((accuracy*100),2)))\n",
    "    print(\"Precision rate of the\", key, \"model is {}%.\".format(round((precision*100),2)))\n",
    "    print(\"Recall rate of the\", key, \"model is {}%.\".format(round((recall*100),2)))\n",
    "    print(\"F-1 score of the\", key, \"model is {}%.\".format(round((f1_score*100),2)))\n",
    "    print(\"The Cross Validation score of the\", key, \"model is {}%\".format(round(cv_score*100, 2)))\n",
    "    \n",
    "    # Confusion Matrix\n",
    "    print(\"\\nThe confusion matrix for the\", key,\"model is:\")\n",
    "    class_names=[0,1] # name  of classes\n",
    "    fig, ax = plt.subplots()\n",
    "    tick_marks = np.arange(len(class_names))\n",
    "    plt.xticks(tick_marks, class_names)\n",
    "    plt.yticks(tick_marks, class_names)\n",
    "    group_names = [\"True –\",\"False +\",\"False –\",\"True +\"]\n",
    "    group_counts = [\"{0:0.0f}\".format(value) for value in metrics.confusion_matrix(test_labels_dict[key0],y_pred=test_labels_predict_dict[key]).flatten()]\n",
    "    group_percentages = [\"{0:.2%}\".format(value) for value in metrics.confusion_matrix(test_labels_dict[key0],y_pred=test_labels_predict_dict[key]).flatten()/np.sum(metrics.confusion_matrix(test_labels_dict[key0],y_pred=test_labels_predict_dict[key]))]\n",
    "    labels = [f\"{v1}\\n{v2}\\n{v3}\" for v1, v2, v3 in zip(group_names,group_counts,group_percentages)]\n",
    "    labels = np.asarray(labels).reshape(2,2)\n",
    "    sns.heatmap(metrics.confusion_matrix(test_labels_dict[key0],y_pred=test_labels_predict_dict[key]), annot=labels, fmt='', cmap='Blues')\n",
    "    ax.xaxis.set_label_position(\"top\")\n",
    "    plt.tight_layout()\n",
    "    plt.title('Confusion Matrix: %r'%key, y=1.1)\n",
    "    plt.ylabel('Actual Innovation')\n",
    "    plt.xlabel('Predicted Innovation')\n",
    "    fig = plt.gcf()\n",
    "    fig.set_size_inches(8, 6)\n",
    "    plt.savefig(('/project/class/bii_sdad_dspg/uva_2021/binn/images/classification/'+key.replace(\"/\", \"\")+'_classifier_cf_matrix.png'), dpi = 600, bbox_inches='tight')\n",
    "    plt.show()\n",
    "    \n",
    "    # ROC Graph\n",
    "    fpr, tpr, thresholds = roc_curve(test_labels_dict[key0], test_labels_predict_proba_dict[key])\n",
    "    auc = roc_auc_score(test_labels_dict[key0], test_labels_predict_proba_dict[key])\n",
    "\n",
    "    plt.plot(fpr, tpr, color = '#232D4B')\n",
    "    plt.plot([0, 1], [0, 1], linestyle='--', color=\"#E57200\")\n",
    "    plt.xlabel(\"False Positive Rate\")\n",
    "    plt.ylabel(\"True Positive Rate\")\n",
    "    plt.title(\"Receiver Operating Characteristics Curve: \"+key+\" model.\\nAUC = \"+str(round(auc*100, 2))+\"%\")\n",
    "    fig = plt.gcf()\n",
    "    fig.set_size_inches(8, 6)\n",
    "    plt.savefig(('/project/class/bii_sdad_dspg/uva_2021/binn/images/classification/'+key.replace(\"/\", \"\")+'_classifier_roc_curve.png'), dpi = 600, bbox_inches='tight')\n",
    "    plt.show()"
   ]
  },
  {
   "cell_type": "code",
   "execution_count": 13,
   "metadata": {},
   "outputs": [],
   "source": [
    "df_new_yn = pd.read_csv(\"/home/asr8r/git/dspg21binn/data/100k_articles_index_innovation_classification_prediction_diggy.csv\", index_col=0)"
   ]
  },
  {
   "cell_type": "code",
   "execution_count": 21,
   "metadata": {},
   "outputs": [
    {
     "data": {
      "image/png": "[encoded data removed]",
      "text/plain": [
       "<Figure size 432x288 with 1 Axes>"
      ]
     },
     "metadata": {
      "needs_background": "light"
     },
     "output_type": "display_data"
    }
   ],
   "source": [
    "ax = df_new_yn.hist(\"pred_prob\", grid = False, color = ['#232D4B'])\n"
   ]
  },
  {
   "cell_type": "code",
   "execution_count": 17,
   "metadata": {},
   "outputs": [
    {
     "data": {
      "text/html": [
       "<div>\n",
       "<style scoped>\n",
       "    .dataframe tbody tr th:only-of-type {\n",
       "        vertical-align: middle;\n",
       "    }\n",
       "\n",
       "    .dataframe tbody tr th {\n",
       "        vertical-align: top;\n",
       "    }\n",
       "\n",
       "    .dataframe thead th {\n",
       "        text-align: right;\n",
       "    }\n",
       "</style>\n",
       "<table border=\"1\" class=\"dataframe\">\n",
       "  <thead>\n",
       "    <tr style=\"text-align: right;\">\n",
       "      <th></th>\n",
       "      <th>an</th>\n",
       "      <th>pred_y</th>\n",
       "      <th>pred_prob</th>\n",
       "    </tr>\n",
       "  </thead>\n",
       "  <tbody>\n",
       "    <tr>\n",
       "      <th>0</th>\n",
       "      <td>JOENG00020170313ed3d00015</td>\n",
       "      <td>0</td>\n",
       "      <td>0.353482</td>\n",
       "    </tr>\n",
       "    <tr>\n",
       "      <th>1</th>\n",
       "      <td>COMWKN0020170223ed2n0002f</td>\n",
       "      <td>1</td>\n",
       "      <td>0.988424</td>\n",
       "    </tr>\n",
       "    <tr>\n",
       "      <th>2</th>\n",
       "      <td>TELAM00020171020edak000jh</td>\n",
       "      <td>1</td>\n",
       "      <td>0.974480</td>\n",
       "    </tr>\n",
       "    <tr>\n",
       "      <th>3</th>\n",
       "      <td>PZON000020170112ed1c0001u</td>\n",
       "      <td>1</td>\n",
       "      <td>0.913724</td>\n",
       "    </tr>\n",
       "    <tr>\n",
       "      <th>4</th>\n",
       "      <td>COMWKN0020170817ed8h0009w</td>\n",
       "      <td>1</td>\n",
       "      <td>0.778763</td>\n",
       "    </tr>\n",
       "    <tr>\n",
       "      <th>...</th>\n",
       "      <td>...</td>\n",
       "      <td>...</td>\n",
       "      <td>...</td>\n",
       "    </tr>\n",
       "    <tr>\n",
       "      <th>96</th>\n",
       "      <td>TAIP000020170405ed4500005</td>\n",
       "      <td>0</td>\n",
       "      <td>0.034230</td>\n",
       "    </tr>\n",
       "    <tr>\n",
       "      <th>97</th>\n",
       "      <td>KRTCY00020170507ed5700003</td>\n",
       "      <td>0</td>\n",
       "      <td>0.014792</td>\n",
       "    </tr>\n",
       "    <tr>\n",
       "      <th>98</th>\n",
       "      <td>BLDW000020170727ed7r0002x</td>\n",
       "      <td>0</td>\n",
       "      <td>0.000948</td>\n",
       "    </tr>\n",
       "    <tr>\n",
       "      <th>99</th>\n",
       "      <td>UWIR000020170805ed840002v</td>\n",
       "      <td>1</td>\n",
       "      <td>0.645509</td>\n",
       "    </tr>\n",
       "    <tr>\n",
       "      <th>100</th>\n",
       "      <td>LBA0000020170801ed8100bx4</td>\n",
       "      <td>0</td>\n",
       "      <td>0.005598</td>\n",
       "    </tr>\n",
       "  </tbody>\n",
       "</table>\n",
       "<p>101143 rows × 3 columns</p>\n",
       "</div>"
      ],
      "text/plain": [
       "                            an  pred_y  pred_prob\n",
       "0    JOENG00020170313ed3d00015       0   0.353482\n",
       "1    COMWKN0020170223ed2n0002f       1   0.988424\n",
       "2    TELAM00020171020edak000jh       1   0.974480\n",
       "3    PZON000020170112ed1c0001u       1   0.913724\n",
       "4    COMWKN0020170817ed8h0009w       1   0.778763\n",
       "..                         ...     ...        ...\n",
       "96   TAIP000020170405ed4500005       0   0.034230\n",
       "97   KRTCY00020170507ed5700003       0   0.014792\n",
       "98   BLDW000020170727ed7r0002x       0   0.000948\n",
       "99   UWIR000020170805ed840002v       1   0.645509\n",
       "100  LBA0000020170801ed8100bx4       0   0.005598\n",
       "\n",
       "[101143 rows x 3 columns]"
      ]
     },
     "execution_count": 17,
     "metadata": {},
     "output_type": "execute_result"
    }
   ],
   "source": [
    "df_new_yn"
   ]
  },
  {
   "cell_type": "code",
   "execution_count": null,
   "metadata": {},
   "outputs": [],
   "source": []
  }
 ],
 "metadata": {
  "kernelspec": {
   "display_name": "Python [conda env:.conda-DiggyConda]",
   "language": "python",
   "name": "conda-env-.conda-DiggyConda-py"
  },
  "language_info": {
   "codemirror_mode": {
    "name": "ipython",
    "version": 3
   },
   "file_extension": ".py",
   "mimetype": "text/x-python",
   "name": "python",
   "nbconvert_exporter": "python",
   "pygments_lexer": "ipython3",
   "version": "3.8.10"
  }
 },
 "nbformat": 4,
 "nbformat_minor": 4
}
