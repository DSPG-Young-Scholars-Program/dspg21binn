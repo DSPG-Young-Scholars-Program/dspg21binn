{
 "cells": [
  {
   "cell_type": "code",
   "execution_count": 1,
   "metadata": {},
   "outputs": [],
   "source": [
    "import pandas as pd\n",
    "import numpy as np\n",
    "from matplotlib import pyplot as plt"
   ]
  },
  {
   "cell_type": "code",
   "execution_count": 2,
   "metadata": {},
   "outputs": [],
   "source": [
    "software_data_2017 = pd.read_csv(\"/project/biocomplexity/sdad/projects_data/ncses/bi/BERT_Consolidated_Methods/DNA_Software_Articles_2017_no_rep.csv\")\n",
    "diggy_predictions=pd.read_csv('/project/class/bii_sdad_dspg/uva_2021/binn/100k_articles_index_innovation_classification_prediction_diggy.csv')"
   ]
  },
  {
   "cell_type": "code",
   "execution_count": 3,
   "metadata": {},
   "outputs": [],
   "source": [
    "company_list=pd.read_csv('/project/biocomplexity/sdad/projects_data/ncses/bi/DNA Data 2021/companies.csv')\n",
    "company_list.code = company_list.code.str.lower()\n",
    "company_list = company_list.rename(columns = {'code':'dna_code'})\n",
    "company_list.drop_duplicates('dna_code', inplace = True)"
   ]
  },
  {
   "cell_type": "code",
   "execution_count": 4,
   "metadata": {},
   "outputs": [],
   "source": [
    "merged_labeled_software_2017 = diggy_predictions.merge(software_data_2017, left_on='an', right_on='an') ## Merging diggy preds for innov or no innov\n",
    "software_companies_2017 = merged_labeled_software_2017['company_codes_about'].str.split(',', expand=True).stack().value_counts() ## getting value counts of all companies\n",
    "software_companies_2017=software_companies_2017.to_frame() ## converting to frame for neat view\n",
    "\n",
    "software_companies_2017.reset_index(inplace=True)\n",
    "software_companies_2017 = software_companies_2017.rename(columns = {'index':'dna_code'})\n",
    "software_companies_2017 = software_companies_2017.rename(columns = {0:'All Mentions'})"
   ]
  },
  {
   "cell_type": "code",
   "execution_count": 5,
   "metadata": {},
   "outputs": [],
   "source": [
    "merged_labeled_software_yes = merged_labeled_software_2017[merged_labeled_software_2017['pred_y']==1] ## Yes innov pred subset from pred\n",
    "software_companies_2017_yes = merged_labeled_software_yes['company_codes_about'].str.split(',', expand=True).stack().value_counts()\n",
    "software_companies_2017_yes=software_companies_2017_yes.to_frame()\n",
    "\n",
    "software_companies_2017_yes.reset_index(inplace=True)\n",
    "software_companies_2017_yes = software_companies_2017_yes.rename(columns = {'index':'dna_code'})\n",
    "software_companies_2017_yes = software_companies_2017_yes.rename(columns = {0:'Innovative Mentions'})"
   ]
  },
  {
   "cell_type": "code",
   "execution_count": 6,
   "metadata": {},
   "outputs": [],
   "source": [
    "data = software_companies_2017[1:].merge(software_companies_2017_yes[1:], on = \"dna_code\", how = \"left\")\n",
    "data = data.merge(company_list, on='dna_code', how = 'left')\n",
    "#data['percent'] = round((data[\"Innovative Mentions\"]/data[\"All Mentions\"])*100,2)\n",
    "#data"
   ]
  },
  {
   "cell_type": "code",
   "execution_count": 7,
   "metadata": {},
   "outputs": [
    {
     "data": {
      "text/html": [
       "<div>\n",
       "<style scoped>\n",
       "    .dataframe tbody tr th:only-of-type {\n",
       "        vertical-align: middle;\n",
       "    }\n",
       "\n",
       "    .dataframe tbody tr th {\n",
       "        vertical-align: top;\n",
       "    }\n",
       "\n",
       "    .dataframe thead th {\n",
       "        text-align: right;\n",
       "    }\n",
       "</style>\n",
       "<table border=\"1\" class=\"dataframe\">\n",
       "  <thead>\n",
       "    <tr style=\"text-align: right;\">\n",
       "      <th></th>\n",
       "      <th>dna_code</th>\n",
       "      <th>All Mentions</th>\n",
       "      <th>Innovative Mentions</th>\n",
       "      <th>description</th>\n",
       "      <th>ticker</th>\n",
       "      <th>ticker_exchange</th>\n",
       "      <th>exchange</th>\n",
       "    </tr>\n",
       "  </thead>\n",
       "  <tbody>\n",
       "    <tr>\n",
       "      <th>0</th>\n",
       "      <td>ibm</td>\n",
       "      <td>10185</td>\n",
       "      <td>588.0</td>\n",
       "      <td>International Business Machines Corp.</td>\n",
       "      <td>IBM28A</td>\n",
       "      <td>IBM28A:XNYS</td>\n",
       "      <td>XNYS</td>\n",
       "    </tr>\n",
       "    <tr>\n",
       "      <th>1</th>\n",
       "      <td>mcrost</td>\n",
       "      <td>5895</td>\n",
       "      <td>1887.0</td>\n",
       "      <td>Microsoft Corporation</td>\n",
       "      <td>MSFT33</td>\n",
       "      <td>MSFT33:XNYS</td>\n",
       "      <td>XNYS</td>\n",
       "    </tr>\n",
       "    <tr>\n",
       "      <th>2</th>\n",
       "      <td>fjfvpl</td>\n",
       "      <td>3473</td>\n",
       "      <td>673.0</td>\n",
       "      <td>Snap Inc</td>\n",
       "      <td>SNAP</td>\n",
       "      <td>SNAP:XNYS</td>\n",
       "      <td>XNYS</td>\n",
       "    </tr>\n",
       "    <tr>\n",
       "      <th>3</th>\n",
       "      <td>orcle</td>\n",
       "      <td>1906</td>\n",
       "      <td>448.0</td>\n",
       "      <td>Oracle Corporation</td>\n",
       "      <td>ORCL</td>\n",
       "      <td>ORCL:XSWX</td>\n",
       "      <td>XSWX</td>\n",
       "    </tr>\n",
       "    <tr>\n",
       "      <th>4</th>\n",
       "      <td>goog</td>\n",
       "      <td>1640</td>\n",
       "      <td>694.0</td>\n",
       "      <td>Alphabet Inc.</td>\n",
       "      <td>ABEA</td>\n",
       "      <td>ABEA:XETR</td>\n",
       "      <td>XETR</td>\n",
       "    </tr>\n",
       "    <tr>\n",
       "      <th>5</th>\n",
       "      <td>onlnfr</td>\n",
       "      <td>1169</td>\n",
       "      <td>472.0</td>\n",
       "      <td>Facebook, Inc.</td>\n",
       "      <td>FB</td>\n",
       "      <td>FB:XSWX</td>\n",
       "      <td>XSWX</td>\n",
       "    </tr>\n",
       "    <tr>\n",
       "      <th>6</th>\n",
       "      <td>amzcom</td>\n",
       "      <td>1099</td>\n",
       "      <td>325.0</td>\n",
       "      <td>Amazon.com, Inc.</td>\n",
       "      <td>AMZN</td>\n",
       "      <td>AMZN:XSGO</td>\n",
       "      <td>XSGO</td>\n",
       "    </tr>\n",
       "    <tr>\n",
       "      <th>7</th>\n",
       "      <td>salesf</td>\n",
       "      <td>1032</td>\n",
       "      <td>287.0</td>\n",
       "      <td>Salesforce.com Inc</td>\n",
       "      <td>0QYJ</td>\n",
       "      <td>0QYJ:XLON</td>\n",
       "      <td>XLON</td>\n",
       "    </tr>\n",
       "    <tr>\n",
       "      <th>8</th>\n",
       "      <td>applc</td>\n",
       "      <td>984</td>\n",
       "      <td>451.0</td>\n",
       "      <td>Apple Inc.</td>\n",
       "      <td>AAPLEUR</td>\n",
       "      <td>AAPLEUR:XSWX</td>\n",
       "      <td>XSWX</td>\n",
       "    </tr>\n",
       "    <tr>\n",
       "      <th>9</th>\n",
       "      <td>zxamaz</td>\n",
       "      <td>947</td>\n",
       "      <td>372.0</td>\n",
       "      <td>Amazon Web Services, Inc.</td>\n",
       "      <td>NaN</td>\n",
       "      <td>NaN</td>\n",
       "      <td>NaN</td>\n",
       "    </tr>\n",
       "  </tbody>\n",
       "</table>\n",
       "</div>"
      ],
      "text/plain": [
       "  dna_code  All Mentions  Innovative Mentions  \\\n",
       "0      ibm         10185                588.0   \n",
       "1   mcrost          5895               1887.0   \n",
       "2   fjfvpl          3473                673.0   \n",
       "3    orcle          1906                448.0   \n",
       "4     goog          1640                694.0   \n",
       "5   onlnfr          1169                472.0   \n",
       "6   amzcom          1099                325.0   \n",
       "7   salesf          1032                287.0   \n",
       "8    applc           984                451.0   \n",
       "9   zxamaz           947                372.0   \n",
       "\n",
       "                             description   ticker  ticker_exchange  exchange  \n",
       "0  International Business Machines Corp.   IBM28A      IBM28A:XNYS      XNYS  \n",
       "1                  Microsoft Corporation   MSFT33      MSFT33:XNYS      XNYS  \n",
       "2                               Snap Inc     SNAP        SNAP:XNYS      XNYS  \n",
       "3                     Oracle Corporation     ORCL        ORCL:XSWX      XSWX  \n",
       "4                          Alphabet Inc.     ABEA        ABEA:XETR      XETR  \n",
       "5                         Facebook, Inc.       FB          FB:XSWX      XSWX  \n",
       "6                       Amazon.com, Inc.     AMZN        AMZN:XSGO      XSGO  \n",
       "7                     Salesforce.com Inc     0QYJ        0QYJ:XLON      XLON  \n",
       "8                             Apple Inc.  AAPLEUR     AAPLEUR:XSWX      XSWX  \n",
       "9              Amazon Web Services, Inc.      NaN              NaN       NaN  "
      ]
     },
     "execution_count": 7,
     "metadata": {},
     "output_type": "execute_result"
    }
   ],
   "source": [
    "data.head(10)"
   ]
  },
  {
   "cell_type": "code",
   "execution_count": null,
   "metadata": {},
   "outputs": [],
   "source": []
  },
  {
   "cell_type": "code",
   "execution_count": 9,
   "metadata": {},
   "outputs": [],
   "source": []
  },
  {
   "cell_type": "code",
   "execution_count": 11,
   "metadata": {},
   "outputs": [],
   "source": []
  },
  {
   "cell_type": "code",
   "execution_count": 12,
   "metadata": {},
   "outputs": [
    {
     "data": {
      "text/plain": [
       "10.0"
      ]
     },
     "execution_count": 12,
     "metadata": {},
     "output_type": "execute_result"
    }
   ],
   "source": [
    "total"
   ]
  },
  {
   "cell_type": "code",
   "execution_count": 30,
   "metadata": {},
   "outputs": [
    {
     "ename": "SyntaxError",
     "evalue": "invalid syntax (<ipython-input-30-33c13a718f2b>, line 1)",
     "output_type": "error",
     "traceback": [
      "\u001b[0;36m  File \u001b[0;32m\"<ipython-input-30-33c13a718f2b>\"\u001b[0;36m, line \u001b[0;32m1\u001b[0m\n\u001b[0;31m    totals = i for i not in 2i in totals[i]\u001b[0m\n\u001b[0m               ^\u001b[0m\n\u001b[0;31mSyntaxError\u001b[0m\u001b[0;31m:\u001b[0m invalid syntax\n"
     ]
    }
   ],
   "source": [
    "totals = i for i not in 2i in totals[i] "
   ]
  },
  {
   "cell_type": "code",
   "execution_count": null,
   "metadata": {},
   "outputs": [],
   "source": []
  },
  {
   "cell_type": "code",
   "execution_count": 42,
   "metadata": {},
   "outputs": [
    {
     "name": "stdout",
     "output_type": "stream",
     "text": [
      "1\n",
      "3\n",
      "5\n",
      "7\n",
      "9\n",
      "11\n",
      "13\n",
      "15\n",
      "17\n",
      "19\n"
     ]
    }
   ],
   "source": []
  },
  {
   "cell_type": "code",
   "execution_count": 44,
   "metadata": {},
   "outputs": [
    {
     "data": {
      "image/png": "[encoded data removed]",
      "text/plain": [
       "<Figure size 432x288 with 1 Axes>"
      ]
     },
     "metadata": {
      "needs_background": "light"
     },
     "output_type": "display_data"
    }
   ],
   "source": [
    "y = data.head(10).plot.bar(x=' description', rot=90, color = ['#232D4B', \"#E57200\"], stacked = True)\n",
    "plt.title(\"Top 10 Companies Mentioned in Software Articles in 2017\")\n",
    "plt.xlabel('Company Names')\n",
    "plt.ylabel('Count')\n",
    "\n",
    "#fig = plt.gcf()\n",
    "fig.set_size_inches(8, 6)\n",
    "plt.savefig(('/project/class/bii_sdad_dspg/uva_2021/binn/images/classification/2017_top_10_innovative_companies.png'), dpi = 600, bbox_inches='tight')\n",
    "plt.show()"
   ]
  },
  {
   "cell_type": "code",
   "execution_count": 250,
   "metadata": {},
   "outputs": [],
   "source": [
    "total_2017_companies = len(software_companies_2017[1:])\n",
    "total_innovative_companies_classified = len(software_companies_2017_yes[1:])\n",
    "total_companies_no_innovation = total_2017_companies - total_innovative_companies_classified"
   ]
  },
  {
   "cell_type": "code",
   "execution_count": 251,
   "metadata": {},
   "outputs": [
    {
     "data": {
      "text/plain": [
       "11536"
      ]
     },
     "execution_count": 251,
     "metadata": {},
     "output_type": "execute_result"
    }
   ],
   "source": [
    "total_2017_companies"
   ]
  },
  {
   "cell_type": "code",
   "execution_count": 252,
   "metadata": {},
   "outputs": [
    {
     "data": {
      "text/plain": [
       "3926"
      ]
     },
     "execution_count": 252,
     "metadata": {},
     "output_type": "execute_result"
    }
   ],
   "source": [
    "total_innovative_companies_classified"
   ]
  },
  {
   "cell_type": "code",
   "execution_count": 253,
   "metadata": {},
   "outputs": [
    {
     "data": {
      "text/plain": [
       "7610"
      ]
     },
     "execution_count": 253,
     "metadata": {},
     "output_type": "execute_result"
    }
   ],
   "source": [
    "total_companies_no_innovation"
   ]
  },
  {
   "cell_type": "code",
   "execution_count": 296,
   "metadata": {},
   "outputs": [
    {
     "data": {
      "image/png": "[encoded data removed]",
      "text/plain": [
       "<Figure size 432x288 with 1 Axes>"
      ]
     },
     "metadata": {},
     "output_type": "display_data"
    }
   ],
   "source": [
    "labels = ['Innovative Mentions', 'Non-Innovative Mentions']\n",
    "sizes = [total_innovative_companies_classified, total_companies_no_innovation]\n",
    "explode = (0.1, 0)\n",
    "colors = (\"#E57200\", \"#232D4B\")\n",
    "fig1, ax1 = plt.subplots()\n",
    "patches, texts, autotexts = ax1.pie(sizes, labels=labels, explode=explode, startangle=90, autopct='%1.1f%%', colors = colors, textprops={'fontsize': 14})\n",
    "texts[0].set_fontsize(12)\n",
    "texts[1].set_fontsize(12)\n",
    "autotexts[0].set_fontsize(10)\n",
    "autotexts[1].set_fontsize(10)\n",
    "ax1.axis('equal')  \n",
    "plt.title(\"Companies Mentioned in Software Articles in 2017\")\n",
    "plt.savefig(('/project/class/bii_sdad_dspg/uva_2021/binn/images/classification/2017_pie_innov_v_no-innov.png'), dpi = 600, bbox_inches='tight')\n",
    "plt.show()"
   ]
  },
  {
   "cell_type": "code",
   "execution_count": null,
   "metadata": {},
   "outputs": [],
   "source": []
  }
 ],
 "metadata": {
  "kernelspec": {
   "display_name": "Python [conda env:.conda-DiggyConda]",
   "language": "python",
   "name": "conda-env-.conda-DiggyConda-py"
  },
  "language_info": {
   "codemirror_mode": {
    "name": "ipython",
    "version": 3
   },
   "file_extension": ".py",
   "mimetype": "text/x-python",
   "name": "python",
   "nbconvert_exporter": "python",
   "pygments_lexer": "ipython3",
   "version": "3.8.10"
  }
 },
 "nbformat": 4,
 "nbformat_minor": 4
}
