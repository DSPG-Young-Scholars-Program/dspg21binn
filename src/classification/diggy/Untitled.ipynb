{
 "cells": [
  {
   "cell_type": "code",
   "execution_count": 1,
   "metadata": {},
   "outputs": [],
   "source": [
    "import pandas as pd\n",
    "import numpy as np\n",
    "from matplotlib import pyplot as plt"
   ]
  },
  {
   "cell_type": "code",
   "execution_count": 2,
   "metadata": {},
   "outputs": [],
   "source": [
    "software_data_2017 = pd.read_csv(\"/project/biocomplexity/sdad/projects_data/ncses/bi/BERT_Consolidated_Methods/DNA_Software_Articles_2017_no_rep.csv\")\n",
    "diggy_predictions=pd.read_csv('/project/class/bii_sdad_dspg/uva_2021/binn/100k_articles_index_innovation_classification_prediction_diggy.csv')"
   ]
  },
  {
   "cell_type": "code",
   "execution_count": 3,
   "metadata": {},
   "outputs": [],
   "source": [
    "company_list=pd.read_csv('/project/biocomplexity/sdad/projects_data/ncses/bi/DNA Data 2021/companies.csv')\n",
    "company_list.code = company_list.code.str.lower()\n",
    "company_list = company_list.rename(columns = {'code':'dna_code'})\n",
    "company_list.drop_duplicates('dna_code', inplace = True)"
   ]
  },
  {
   "cell_type": "code",
   "execution_count": 4,
   "metadata": {},
   "outputs": [],
   "source": [
    "merged_labeled_software_2017 = diggy_predictions.merge(software_data_2017, left_on='an', right_on='an') ## Merging diggy preds for innov or no innov\n",
    "software_companies_2017 = merged_labeled_software_2017['company_codes_about'].str.split(',', expand=True).stack().value_counts() ## getting value counts of all companies\n",
    "software_companies_2017=software_companies_2017.to_frame() ## converting to frame for neat view\n",
    "\n",
    "software_companies_2017.reset_index(inplace=True)\n",
    "software_companies_2017 = software_companies_2017.rename(columns = {'index':'dna_code'})\n",
    "software_companies_2017 = software_companies_2017.rename(columns = {0:'All Mentions'})"
   ]
  },
  {
   "cell_type": "code",
   "execution_count": 5,
   "metadata": {},
   "outputs": [],
   "source": [
    "merged_labeled_software_yes = merged_labeled_software_2017[merged_labeled_software_2017['pred_y']==1] ## Yes innov pred subset from pred\n",
    "software_companies_2017_yes = merged_labeled_software_yes['company_codes_about'].str.split(',', expand=True).stack().value_counts()\n",
    "software_companies_2017_yes=software_companies_2017_yes.to_frame()\n",
    "\n",
    "software_companies_2017_yes.reset_index(inplace=True)\n",
    "software_companies_2017_yes = software_companies_2017_yes.rename(columns = {'index':'dna_code'})\n",
    "software_companies_2017_yes = software_companies_2017_yes.rename(columns = {0:'Innovative Mentions'})"
   ]
  },
  {
   "cell_type": "code",
   "execution_count": 54,
   "metadata": {},
   "outputs": [
    {
     "data": {
      "text/html": [
       "<div>\n",
       "<style scoped>\n",
       "    .dataframe tbody tr th:only-of-type {\n",
       "        vertical-align: middle;\n",
       "    }\n",
       "\n",
       "    .dataframe tbody tr th {\n",
       "        vertical-align: top;\n",
       "    }\n",
       "\n",
       "    .dataframe thead th {\n",
       "        text-align: right;\n",
       "    }\n",
       "</style>\n",
       "<table border=\"1\" class=\"dataframe\">\n",
       "  <thead>\n",
       "    <tr style=\"text-align: right;\">\n",
       "      <th></th>\n",
       "      <th>dna_code</th>\n",
       "      <th>All Mentions</th>\n",
       "      <th>Innovative Mentions</th>\n",
       "      <th>description</th>\n",
       "      <th>ticker</th>\n",
       "      <th>ticker_exchange</th>\n",
       "      <th>exchange</th>\n",
       "      <th>Non-Innovative Mentions</th>\n",
       "      <th>pct_innov</th>\n",
       "    </tr>\n",
       "  </thead>\n",
       "  <tbody>\n",
       "    <tr>\n",
       "      <th>0</th>\n",
       "      <td>ibm</td>\n",
       "      <td>10185</td>\n",
       "      <td>588.0</td>\n",
       "      <td>International Business Machines Corp.</td>\n",
       "      <td>IBM28A</td>\n",
       "      <td>IBM28A:XNYS</td>\n",
       "      <td>XNYS</td>\n",
       "      <td>9597.0</td>\n",
       "      <td>0.057732</td>\n",
       "    </tr>\n",
       "    <tr>\n",
       "      <th>1</th>\n",
       "      <td>mcrost</td>\n",
       "      <td>5895</td>\n",
       "      <td>1887.0</td>\n",
       "      <td>Microsoft Corporation</td>\n",
       "      <td>MSFT33</td>\n",
       "      <td>MSFT33:XNYS</td>\n",
       "      <td>XNYS</td>\n",
       "      <td>4008.0</td>\n",
       "      <td>0.320102</td>\n",
       "    </tr>\n",
       "    <tr>\n",
       "      <th>2</th>\n",
       "      <td>fjfvpl</td>\n",
       "      <td>3473</td>\n",
       "      <td>673.0</td>\n",
       "      <td>Snap Inc</td>\n",
       "      <td>SNAP</td>\n",
       "      <td>SNAP:XNYS</td>\n",
       "      <td>XNYS</td>\n",
       "      <td>2800.0</td>\n",
       "      <td>0.193781</td>\n",
       "    </tr>\n",
       "    <tr>\n",
       "      <th>3</th>\n",
       "      <td>orcle</td>\n",
       "      <td>1906</td>\n",
       "      <td>448.0</td>\n",
       "      <td>Oracle Corporation</td>\n",
       "      <td>ORCL</td>\n",
       "      <td>ORCL:XSWX</td>\n",
       "      <td>XSWX</td>\n",
       "      <td>1458.0</td>\n",
       "      <td>0.235047</td>\n",
       "    </tr>\n",
       "    <tr>\n",
       "      <th>4</th>\n",
       "      <td>goog</td>\n",
       "      <td>1640</td>\n",
       "      <td>694.0</td>\n",
       "      <td>Alphabet Inc.</td>\n",
       "      <td>ABEA</td>\n",
       "      <td>ABEA:XETR</td>\n",
       "      <td>XETR</td>\n",
       "      <td>946.0</td>\n",
       "      <td>0.423171</td>\n",
       "    </tr>\n",
       "    <tr>\n",
       "      <th>5</th>\n",
       "      <td>onlnfr</td>\n",
       "      <td>1169</td>\n",
       "      <td>472.0</td>\n",
       "      <td>Facebook, Inc.</td>\n",
       "      <td>FB</td>\n",
       "      <td>FB:XSWX</td>\n",
       "      <td>XSWX</td>\n",
       "      <td>697.0</td>\n",
       "      <td>0.403764</td>\n",
       "    </tr>\n",
       "    <tr>\n",
       "      <th>6</th>\n",
       "      <td>amzcom</td>\n",
       "      <td>1099</td>\n",
       "      <td>325.0</td>\n",
       "      <td>Amazon.com, Inc.</td>\n",
       "      <td>AMZN</td>\n",
       "      <td>AMZN:XSGO</td>\n",
       "      <td>XSGO</td>\n",
       "      <td>774.0</td>\n",
       "      <td>0.295723</td>\n",
       "    </tr>\n",
       "    <tr>\n",
       "      <th>7</th>\n",
       "      <td>salesf</td>\n",
       "      <td>1032</td>\n",
       "      <td>287.0</td>\n",
       "      <td>Salesforce.com Inc</td>\n",
       "      <td>0QYJ</td>\n",
       "      <td>0QYJ:XLON</td>\n",
       "      <td>XLON</td>\n",
       "      <td>745.0</td>\n",
       "      <td>0.278101</td>\n",
       "    </tr>\n",
       "    <tr>\n",
       "      <th>8</th>\n",
       "      <td>applc</td>\n",
       "      <td>984</td>\n",
       "      <td>451.0</td>\n",
       "      <td>Apple Inc.</td>\n",
       "      <td>AAPLEUR</td>\n",
       "      <td>AAPLEUR:XSWX</td>\n",
       "      <td>XSWX</td>\n",
       "      <td>533.0</td>\n",
       "      <td>0.458333</td>\n",
       "    </tr>\n",
       "    <tr>\n",
       "      <th>9</th>\n",
       "      <td>zxamaz</td>\n",
       "      <td>947</td>\n",
       "      <td>372.0</td>\n",
       "      <td>Amazon Web Services, Inc.</td>\n",
       "      <td>NaN</td>\n",
       "      <td>NaN</td>\n",
       "      <td>NaN</td>\n",
       "      <td>575.0</td>\n",
       "      <td>0.392819</td>\n",
       "    </tr>\n",
       "  </tbody>\n",
       "</table>\n",
       "</div>"
      ],
      "text/plain": [
       "  dna_code  All Mentions  Innovative Mentions  \\\n",
       "0      ibm         10185                588.0   \n",
       "1   mcrost          5895               1887.0   \n",
       "2   fjfvpl          3473                673.0   \n",
       "3    orcle          1906                448.0   \n",
       "4     goog          1640                694.0   \n",
       "5   onlnfr          1169                472.0   \n",
       "6   amzcom          1099                325.0   \n",
       "7   salesf          1032                287.0   \n",
       "8    applc           984                451.0   \n",
       "9   zxamaz           947                372.0   \n",
       "\n",
       "                             description   ticker  ticker_exchange  exchange  \\\n",
       "0  International Business Machines Corp.   IBM28A      IBM28A:XNYS      XNYS   \n",
       "1                  Microsoft Corporation   MSFT33      MSFT33:XNYS      XNYS   \n",
       "2                               Snap Inc     SNAP        SNAP:XNYS      XNYS   \n",
       "3                     Oracle Corporation     ORCL        ORCL:XSWX      XSWX   \n",
       "4                          Alphabet Inc.     ABEA        ABEA:XETR      XETR   \n",
       "5                         Facebook, Inc.       FB          FB:XSWX      XSWX   \n",
       "6                       Amazon.com, Inc.     AMZN        AMZN:XSGO      XSGO   \n",
       "7                     Salesforce.com Inc     0QYJ        0QYJ:XLON      XLON   \n",
       "8                             Apple Inc.  AAPLEUR     AAPLEUR:XSWX      XSWX   \n",
       "9              Amazon Web Services, Inc.      NaN              NaN       NaN   \n",
       "\n",
       "   Non-Innovative Mentions  pct_innov  \n",
       "0                   9597.0   0.057732  \n",
       "1                   4008.0   0.320102  \n",
       "2                   2800.0   0.193781  \n",
       "3                   1458.0   0.235047  \n",
       "4                    946.0   0.423171  \n",
       "5                    697.0   0.403764  \n",
       "6                    774.0   0.295723  \n",
       "7                    745.0   0.278101  \n",
       "8                    533.0   0.458333  \n",
       "9                    575.0   0.392819  "
      ]
     },
     "execution_count": 54,
     "metadata": {},
     "output_type": "execute_result"
    }
   ],
   "source": [
    "data = software_companies_2017[1:].merge(software_companies_2017_yes[1:], on = \"dna_code\", how = \"left\")\n",
    "data = data.merge(company_list, on='dna_code', how = 'left')\n",
    "data['Non-Innovative Mentions'] = data[\"All Mentions\"] - data[\"Innovative Mentions\"]\n",
    "data['pct_innov'] = data[\"Innovative Mentions\"]/data[\"All Mentions\"]\n",
    "#data['percent'] = round((data[\"Innovative Mentions\"]/data[\"All Mentions\"])*100,2)\n",
    "data.head(10)"
   ]
  },
  {
   "cell_type": "code",
   "execution_count": null,
   "metadata": {},
   "outputs": [],
   "source": [
    "/project/class/bii_sdad_dspg/uva_2021/binn/"
   ]
  },
  {
   "cell_type": "code",
   "execution_count": 100,
   "metadata": {},
   "outputs": [],
   "source": [
    "data.to_csv(\"/project/class/bii_sdad_dspg/uva_2021/binn/dynamic_company_innov_fig_data.csv\")"
   ]
  },
  {
   "cell_type": "code",
   "execution_count": 7,
   "metadata": {},
   "outputs": [
    {
     "data": {
      "text/html": [
       "<div>\n",
       "<style scoped>\n",
       "    .dataframe tbody tr th:only-of-type {\n",
       "        vertical-align: middle;\n",
       "    }\n",
       "\n",
       "    .dataframe tbody tr th {\n",
       "        vertical-align: top;\n",
       "    }\n",
       "\n",
       "    .dataframe thead th {\n",
       "        text-align: right;\n",
       "    }\n",
       "</style>\n",
       "<table border=\"1\" class=\"dataframe\">\n",
       "  <thead>\n",
       "    <tr style=\"text-align: right;\">\n",
       "      <th></th>\n",
       "      <th>index</th>\n",
       "      <th>Publisher: All Articles</th>\n",
       "    </tr>\n",
       "  </thead>\n",
       "  <tbody>\n",
       "    <tr>\n",
       "      <th>0</th>\n",
       "      <td>NewsRX, LLC</td>\n",
       "      <td>29018</td>\n",
       "    </tr>\n",
       "    <tr>\n",
       "      <th>1</th>\n",
       "      <td>Business Wire, Inc.</td>\n",
       "      <td>7173</td>\n",
       "    </tr>\n",
       "    <tr>\n",
       "      <th>2</th>\n",
       "      <td>Normans Media Ltd</td>\n",
       "      <td>5587</td>\n",
       "    </tr>\n",
       "    <tr>\n",
       "      <th>3</th>\n",
       "      <td>News Bites Pty Ltd (Europe)</td>\n",
       "      <td>5475</td>\n",
       "    </tr>\n",
       "    <tr>\n",
       "      <th>4</th>\n",
       "      <td>Dow Jones &amp; Company, Inc.</td>\n",
       "      <td>4762</td>\n",
       "    </tr>\n",
       "    <tr>\n",
       "      <th>5</th>\n",
       "      <td>Thomson Reuters (Markets) LLC</td>\n",
       "      <td>3500</td>\n",
       "    </tr>\n",
       "    <tr>\n",
       "      <th>6</th>\n",
       "      <td>Athena Information Solutions Pvt. Ltd.</td>\n",
       "      <td>2796</td>\n",
       "    </tr>\n",
       "    <tr>\n",
       "      <th>7</th>\n",
       "      <td>GlobeNewswire, Inc.</td>\n",
       "      <td>2693</td>\n",
       "    </tr>\n",
       "    <tr>\n",
       "      <th>8</th>\n",
       "      <td>Gannett Co., Inc. - Newspaper Division</td>\n",
       "      <td>2260</td>\n",
       "    </tr>\n",
       "    <tr>\n",
       "      <th>9</th>\n",
       "      <td>iCrowdNewswire, LLC</td>\n",
       "      <td>1897</td>\n",
       "    </tr>\n",
       "  </tbody>\n",
       "</table>\n",
       "</div>"
      ],
      "text/plain": [
       "                                    index  Publisher: All Articles\n",
       "0                             NewsRX, LLC                    29018\n",
       "1                     Business Wire, Inc.                     7173\n",
       "2                       Normans Media Ltd                     5587\n",
       "3             News Bites Pty Ltd (Europe)                     5475\n",
       "4               Dow Jones & Company, Inc.                     4762\n",
       "5           Thomson Reuters (Markets) LLC                     3500\n",
       "6  Athena Information Solutions Pvt. Ltd.                     2796\n",
       "7                     GlobeNewswire, Inc.                     2693\n",
       "8  Gannett Co., Inc. - Newspaper Division                     2260\n",
       "9                     iCrowdNewswire, LLC                     1897"
      ]
     },
     "execution_count": 7,
     "metadata": {},
     "output_type": "execute_result"
    }
   ],
   "source": [
    "publishers_2017 = merged_labeled_software_2017.publisher_name.value_counts()\n",
    "publishers_2017 = publishers_2017.to_frame()\n",
    "\n",
    "publishers_2017.reset_index(inplace=True)\n",
    "publishers_2017 = publishers_2017.rename(columns = {'publisher_name':'Publisher: All Articles'})\n",
    "publishers_2017.head(10)"
   ]
  },
  {
   "cell_type": "code",
   "execution_count": 8,
   "metadata": {},
   "outputs": [
    {
     "data": {
      "text/html": [
       "<div>\n",
       "<style scoped>\n",
       "    .dataframe tbody tr th:only-of-type {\n",
       "        vertical-align: middle;\n",
       "    }\n",
       "\n",
       "    .dataframe tbody tr th {\n",
       "        vertical-align: top;\n",
       "    }\n",
       "\n",
       "    .dataframe thead th {\n",
       "        text-align: right;\n",
       "    }\n",
       "</style>\n",
       "<table border=\"1\" class=\"dataframe\">\n",
       "  <thead>\n",
       "    <tr style=\"text-align: right;\">\n",
       "      <th></th>\n",
       "      <th>index</th>\n",
       "      <th>Publisher: Innovative Articles</th>\n",
       "    </tr>\n",
       "  </thead>\n",
       "  <tbody>\n",
       "    <tr>\n",
       "      <th>0</th>\n",
       "      <td>NewsRX, LLC</td>\n",
       "      <td>4451</td>\n",
       "    </tr>\n",
       "    <tr>\n",
       "      <th>1</th>\n",
       "      <td>Business Wire, Inc.</td>\n",
       "      <td>2520</td>\n",
       "    </tr>\n",
       "    <tr>\n",
       "      <th>2</th>\n",
       "      <td>Normans Media Ltd</td>\n",
       "      <td>2215</td>\n",
       "    </tr>\n",
       "    <tr>\n",
       "      <th>3</th>\n",
       "      <td>Dow Jones &amp; Company, Inc.</td>\n",
       "      <td>1318</td>\n",
       "    </tr>\n",
       "    <tr>\n",
       "      <th>4</th>\n",
       "      <td>Gannett Co., Inc. - Newspaper Division</td>\n",
       "      <td>830</td>\n",
       "    </tr>\n",
       "    <tr>\n",
       "      <th>5</th>\n",
       "      <td>Athena Information Solutions Pvt. Ltd.</td>\n",
       "      <td>566</td>\n",
       "    </tr>\n",
       "    <tr>\n",
       "      <th>6</th>\n",
       "      <td>GlobeNewswire, Inc.</td>\n",
       "      <td>548</td>\n",
       "    </tr>\n",
       "    <tr>\n",
       "      <th>7</th>\n",
       "      <td>Electronic News Publishing Ltd.</td>\n",
       "      <td>500</td>\n",
       "    </tr>\n",
       "    <tr>\n",
       "      <th>8</th>\n",
       "      <td>MediaPost Communications</td>\n",
       "      <td>458</td>\n",
       "    </tr>\n",
       "    <tr>\n",
       "      <th>9</th>\n",
       "      <td>CNET Networks Inc.</td>\n",
       "      <td>429</td>\n",
       "    </tr>\n",
       "  </tbody>\n",
       "</table>\n",
       "</div>"
      ],
      "text/plain": [
       "                                    index  Publisher: Innovative Articles\n",
       "0                             NewsRX, LLC                            4451\n",
       "1                     Business Wire, Inc.                            2520\n",
       "2                       Normans Media Ltd                            2215\n",
       "3               Dow Jones & Company, Inc.                            1318\n",
       "4  Gannett Co., Inc. - Newspaper Division                             830\n",
       "5  Athena Information Solutions Pvt. Ltd.                             566\n",
       "6                     GlobeNewswire, Inc.                             548\n",
       "7         Electronic News Publishing Ltd.                             500\n",
       "8                MediaPost Communications                             458\n",
       "9                      CNET Networks Inc.                             429"
      ]
     },
     "execution_count": 8,
     "metadata": {},
     "output_type": "execute_result"
    }
   ],
   "source": [
    "publishers_2017_yes = merged_labeled_software_yes.publisher_name.value_counts()\n",
    "publishers_2017_yes = publishers_2017_yes.to_frame()\n",
    "\n",
    "publishers_2017_yes.reset_index(inplace=True)\n",
    "publishers_2017_yes = publishers_2017_yes.rename(columns = {'publisher_name':'Publisher: Innovative Articles'})\n",
    "publishers_2017_yes.head(10)"
   ]
  },
  {
   "cell_type": "code",
   "execution_count": 94,
   "metadata": {},
   "outputs": [
    {
     "data": {
      "text/html": [
       "<div>\n",
       "<style scoped>\n",
       "    .dataframe tbody tr th:only-of-type {\n",
       "        vertical-align: middle;\n",
       "    }\n",
       "\n",
       "    .dataframe tbody tr th {\n",
       "        vertical-align: top;\n",
       "    }\n",
       "\n",
       "    .dataframe thead th {\n",
       "        text-align: right;\n",
       "    }\n",
       "</style>\n",
       "<table border=\"1\" class=\"dataframe\">\n",
       "  <thead>\n",
       "    <tr style=\"text-align: right;\">\n",
       "      <th></th>\n",
       "      <th>Publisher Name</th>\n",
       "      <th>Publisher: All Articles</th>\n",
       "      <th>Publisher: Innovative Articles</th>\n",
       "      <th>Publisher: Non-Innovative Articles</th>\n",
       "      <th>pct_innov</th>\n",
       "    </tr>\n",
       "  </thead>\n",
       "  <tbody>\n",
       "    <tr>\n",
       "      <th>0</th>\n",
       "      <td>NewsRX, LLC</td>\n",
       "      <td>29018</td>\n",
       "      <td>4451.0</td>\n",
       "      <td>24567.0</td>\n",
       "      <td>0.153388</td>\n",
       "    </tr>\n",
       "    <tr>\n",
       "      <th>1</th>\n",
       "      <td>Business Wire, Inc.</td>\n",
       "      <td>7173</td>\n",
       "      <td>2520.0</td>\n",
       "      <td>4653.0</td>\n",
       "      <td>0.351317</td>\n",
       "    </tr>\n",
       "    <tr>\n",
       "      <th>2</th>\n",
       "      <td>Normans Media Ltd</td>\n",
       "      <td>5587</td>\n",
       "      <td>2215.0</td>\n",
       "      <td>3372.0</td>\n",
       "      <td>0.396456</td>\n",
       "    </tr>\n",
       "    <tr>\n",
       "      <th>3</th>\n",
       "      <td>News Bites Pty Ltd (Europe)</td>\n",
       "      <td>5475</td>\n",
       "      <td>0.0</td>\n",
       "      <td>5475.0</td>\n",
       "      <td>0.000000</td>\n",
       "    </tr>\n",
       "    <tr>\n",
       "      <th>4</th>\n",
       "      <td>Dow Jones &amp; Company, Inc.</td>\n",
       "      <td>4762</td>\n",
       "      <td>1318.0</td>\n",
       "      <td>3444.0</td>\n",
       "      <td>0.276774</td>\n",
       "    </tr>\n",
       "    <tr>\n",
       "      <th>5</th>\n",
       "      <td>Thomson Reuters (Markets) LLC</td>\n",
       "      <td>3500</td>\n",
       "      <td>220.0</td>\n",
       "      <td>3280.0</td>\n",
       "      <td>0.062857</td>\n",
       "    </tr>\n",
       "    <tr>\n",
       "      <th>6</th>\n",
       "      <td>Athena Information Solutions Pvt. Ltd.</td>\n",
       "      <td>2796</td>\n",
       "      <td>566.0</td>\n",
       "      <td>2230.0</td>\n",
       "      <td>0.202432</td>\n",
       "    </tr>\n",
       "    <tr>\n",
       "      <th>7</th>\n",
       "      <td>GlobeNewswire, Inc.</td>\n",
       "      <td>2693</td>\n",
       "      <td>548.0</td>\n",
       "      <td>2145.0</td>\n",
       "      <td>0.203491</td>\n",
       "    </tr>\n",
       "    <tr>\n",
       "      <th>8</th>\n",
       "      <td>Gannett Co., Inc. - Newspaper Division</td>\n",
       "      <td>2260</td>\n",
       "      <td>830.0</td>\n",
       "      <td>1430.0</td>\n",
       "      <td>0.367257</td>\n",
       "    </tr>\n",
       "    <tr>\n",
       "      <th>9</th>\n",
       "      <td>iCrowdNewswire, LLC</td>\n",
       "      <td>1897</td>\n",
       "      <td>250.0</td>\n",
       "      <td>1647.0</td>\n",
       "      <td>0.131787</td>\n",
       "    </tr>\n",
       "  </tbody>\n",
       "</table>\n",
       "</div>"
      ],
      "text/plain": [
       "                           Publisher Name  Publisher: All Articles  \\\n",
       "0                             NewsRX, LLC                    29018   \n",
       "1                     Business Wire, Inc.                     7173   \n",
       "2                       Normans Media Ltd                     5587   \n",
       "3             News Bites Pty Ltd (Europe)                     5475   \n",
       "4               Dow Jones & Company, Inc.                     4762   \n",
       "5           Thomson Reuters (Markets) LLC                     3500   \n",
       "6  Athena Information Solutions Pvt. Ltd.                     2796   \n",
       "7                     GlobeNewswire, Inc.                     2693   \n",
       "8  Gannett Co., Inc. - Newspaper Division                     2260   \n",
       "9                     iCrowdNewswire, LLC                     1897   \n",
       "\n",
       "   Publisher: Innovative Articles  Publisher: Non-Innovative Articles  \\\n",
       "0                          4451.0                             24567.0   \n",
       "1                          2520.0                              4653.0   \n",
       "2                          2215.0                              3372.0   \n",
       "3                             0.0                              5475.0   \n",
       "4                          1318.0                              3444.0   \n",
       "5                           220.0                              3280.0   \n",
       "6                           566.0                              2230.0   \n",
       "7                           548.0                              2145.0   \n",
       "8                           830.0                              1430.0   \n",
       "9                           250.0                              1647.0   \n",
       "\n",
       "   pct_innov  \n",
       "0   0.153388  \n",
       "1   0.351317  \n",
       "2   0.396456  \n",
       "3   0.000000  \n",
       "4   0.276774  \n",
       "5   0.062857  \n",
       "6   0.202432  \n",
       "7   0.203491  \n",
       "8   0.367257  \n",
       "9   0.131787  "
      ]
     },
     "execution_count": 94,
     "metadata": {},
     "output_type": "execute_result"
    }
   ],
   "source": [
    "data_p = publishers_2017.merge(publishers_2017_yes, on = \"index\", how = \"left\")\n",
    "data_p = data_p.rename(columns = {'index':'Publisher Name'})\n",
    "data_p = data_p.fillna(0)\n",
    "data_p['Publisher: Non-Innovative Articles'] = data_p[\"Publisher: All Articles\"] - data_p[\"Publisher: Innovative Articles\"]\n",
    "data_p['pct_innov'] = data_p[\"Publisher: Innovative Articles\"]/data_p[\"Publisher: All Articles\"]\n",
    "#data_p[['Publisher: All Articles','Publisher: Innovative Articles']] = data_p[['Publisher: All Articles','Publisher: Innovative Articles']].apply(pd.to_numeric)\n",
    "#data_p['percent'] = round((data[\"Innovative Mentions\"]/data[\"All Mentions\"])*100,2)\n",
    "data_p.head(10)"
   ]
  },
  {
   "cell_type": "markdown",
   "metadata": {},
   "source": [
    "## Publisher Counts for 2017"
   ]
  },
  {
   "cell_type": "code",
   "execution_count": 10,
   "metadata": {},
   "outputs": [
    {
     "data": {
      "image/png": "[encoded data removed]",
      "text/plain": [
       "<Figure size 576x432 with 1 Axes>"
      ]
     },
     "metadata": {
      "needs_background": "light"
     },
     "output_type": "display_data"
    }
   ],
   "source": [
    "y = data_p.head(10).sort_values(by = \"Publisher: All Articles\", ascending = True).plot.barh(x='Publisher Name', y=\"Publisher: All Articles\", rot=0, color = '#232D4B')\n",
    "plt.title(\"Top 10 Publishers of Software Articles in 2017\")\n",
    "plt.ylabel('Publisher Names')\n",
    "plt.xlabel('Article Count')\n",
    "plt.legend().remove()\n",
    "fig = plt.gcf()\n",
    "fig.set_size_inches(8, 6)\n",
    "plt.savefig(('/project/class/bii_sdad_dspg/uva_2021/binn/images/data_overview/2017_top_10_publishers.png'), dpi = 600, bbox_inches='tight')\n",
    "plt.show()"
   ]
  },
  {
   "cell_type": "markdown",
   "metadata": {},
   "source": [
    "## Company Mention Counts for 2017"
   ]
  },
  {
   "cell_type": "code",
   "execution_count": 11,
   "metadata": {},
   "outputs": [
    {
     "data": {
      "image/png": "[encoded data removed]",
      "text/plain": [
       "<Figure size 576x432 with 1 Axes>"
      ]
     },
     "metadata": {
      "needs_background": "light"
     },
     "output_type": "display_data"
    }
   ],
   "source": [
    "y = data.head(10).sort_values(by = \"All Mentions\", ascending = True).plot.barh(x=' description', y = \"All Mentions\", rot=0, color = \"#E57200\")\n",
    "plt.title(\"Top 10 Companies Mentioned in Software Articles in 2017\")\n",
    "plt.ylabel('Company Names')\n",
    "plt.xlabel('Mention Count')\n",
    "plt.legend().remove()\n",
    "fig = plt.gcf()\n",
    "fig.set_size_inches(8, 6)\n",
    "plt.savefig(('/project/class/bii_sdad_dspg/uva_2021/binn/images/data_overview/2017_top_10_company_mentions.png'), dpi = 600, bbox_inches='tight')\n",
    "plt.show()"
   ]
  },
  {
   "cell_type": "code",
   "execution_count": 97,
   "metadata": {},
   "outputs": [
    {
     "data": {
      "image/png": "[encoded data removed]",
      "text/plain": [
       "<Figure size 576x432 with 1 Axes>"
      ]
     },
     "metadata": {
      "needs_background": "light"
     },
     "output_type": "display_data"
    }
   ],
   "source": [
    "i = 0\n",
    "ax = data.head(10).sort_values(\"pct_innov\", ascending = True).plot.barh(x=' description', y = [\"Non-Innovative Mentions\", \"Innovative Mentions\"], rot=0, color = ['#232D4B', \"#E57200\"], stacked = True)\n",
    "plt.title(\"Top 10 Innovative Company Mentions as a Fraction of Total Mentions\")\n",
    "plt.ylabel('Company Names')\n",
    "plt.xlabel('Count')\n",
    "for rect in ax.patches:\n",
    "    while i == 10:\n",
    "        height = rect.get_height()\n",
    "        width = rect.get_width()\n",
    "        x = rect.get_x()\n",
    "        y = rect.get_y()\n",
    "\n",
    "        # The width of the bar is the data value and can used as the label\n",
    "        label_text = str(round((width/(x+width))*100,2))+\"%\"  # f'{width:.2f}' if you have decimal values as labels\n",
    "\n",
    "        label_x = x + width+500\n",
    "        label_y = y + height/2\n",
    "        ax.text(label_x, label_y, label_text, ha='center', va='center', fontsize=8)\n",
    "        i=9\n",
    "    \n",
    "    if i < 10:\n",
    "        i = i + 1\n",
    "    \n",
    "    elif i > 10:\n",
    "        i = 10\n",
    "fig = plt.gcf()\n",
    "fig.set_size_inches(8, 6)\n",
    "plt.savefig(('/project/class/bii_sdad_dspg/uva_2021/binn/images/classification/2017_top_10_innovative_companies_frac.png'), dpi = 600, bbox_inches='tight')\n",
    "plt.show()"
   ]
  },
  {
   "cell_type": "code",
   "execution_count": 92,
   "metadata": {},
   "outputs": [
    {
     "data": {
      "text/html": [
       "<div>\n",
       "<style scoped>\n",
       "    .dataframe tbody tr th:only-of-type {\n",
       "        vertical-align: middle;\n",
       "    }\n",
       "\n",
       "    .dataframe tbody tr th {\n",
       "        vertical-align: top;\n",
       "    }\n",
       "\n",
       "    .dataframe thead th {\n",
       "        text-align: right;\n",
       "    }\n",
       "</style>\n",
       "<table border=\"1\" class=\"dataframe\">\n",
       "  <thead>\n",
       "    <tr style=\"text-align: right;\">\n",
       "      <th></th>\n",
       "      <th>Publisher Name</th>\n",
       "      <th>Publisher: All Articles</th>\n",
       "      <th>Publisher: Innovative Articles</th>\n",
       "      <th>Publisher: Non-Innovative Articles</th>\n",
       "    </tr>\n",
       "  </thead>\n",
       "  <tbody>\n",
       "    <tr>\n",
       "      <th>0</th>\n",
       "      <td>NewsRX, LLC</td>\n",
       "      <td>29018</td>\n",
       "      <td>4451.0</td>\n",
       "      <td>24567.0</td>\n",
       "    </tr>\n",
       "    <tr>\n",
       "      <th>1</th>\n",
       "      <td>Business Wire, Inc.</td>\n",
       "      <td>7173</td>\n",
       "      <td>2520.0</td>\n",
       "      <td>4653.0</td>\n",
       "    </tr>\n",
       "    <tr>\n",
       "      <th>2</th>\n",
       "      <td>Normans Media Ltd</td>\n",
       "      <td>5587</td>\n",
       "      <td>2215.0</td>\n",
       "      <td>3372.0</td>\n",
       "    </tr>\n",
       "    <tr>\n",
       "      <th>3</th>\n",
       "      <td>News Bites Pty Ltd (Europe)</td>\n",
       "      <td>5475</td>\n",
       "      <td>0.0</td>\n",
       "      <td>5475.0</td>\n",
       "    </tr>\n",
       "    <tr>\n",
       "      <th>4</th>\n",
       "      <td>Dow Jones &amp; Company, Inc.</td>\n",
       "      <td>4762</td>\n",
       "      <td>1318.0</td>\n",
       "      <td>3444.0</td>\n",
       "    </tr>\n",
       "    <tr>\n",
       "      <th>5</th>\n",
       "      <td>Thomson Reuters (Markets) LLC</td>\n",
       "      <td>3500</td>\n",
       "      <td>220.0</td>\n",
       "      <td>3280.0</td>\n",
       "    </tr>\n",
       "    <tr>\n",
       "      <th>6</th>\n",
       "      <td>Athena Information Solutions Pvt. Ltd.</td>\n",
       "      <td>2796</td>\n",
       "      <td>566.0</td>\n",
       "      <td>2230.0</td>\n",
       "    </tr>\n",
       "    <tr>\n",
       "      <th>7</th>\n",
       "      <td>GlobeNewswire, Inc.</td>\n",
       "      <td>2693</td>\n",
       "      <td>548.0</td>\n",
       "      <td>2145.0</td>\n",
       "    </tr>\n",
       "    <tr>\n",
       "      <th>8</th>\n",
       "      <td>Gannett Co., Inc. - Newspaper Division</td>\n",
       "      <td>2260</td>\n",
       "      <td>830.0</td>\n",
       "      <td>1430.0</td>\n",
       "    </tr>\n",
       "    <tr>\n",
       "      <th>9</th>\n",
       "      <td>iCrowdNewswire, LLC</td>\n",
       "      <td>1897</td>\n",
       "      <td>250.0</td>\n",
       "      <td>1647.0</td>\n",
       "    </tr>\n",
       "  </tbody>\n",
       "</table>\n",
       "</div>"
      ],
      "text/plain": [
       "                           Publisher Name  Publisher: All Articles  \\\n",
       "0                             NewsRX, LLC                    29018   \n",
       "1                     Business Wire, Inc.                     7173   \n",
       "2                       Normans Media Ltd                     5587   \n",
       "3             News Bites Pty Ltd (Europe)                     5475   \n",
       "4               Dow Jones & Company, Inc.                     4762   \n",
       "5           Thomson Reuters (Markets) LLC                     3500   \n",
       "6  Athena Information Solutions Pvt. Ltd.                     2796   \n",
       "7                     GlobeNewswire, Inc.                     2693   \n",
       "8  Gannett Co., Inc. - Newspaper Division                     2260   \n",
       "9                     iCrowdNewswire, LLC                     1897   \n",
       "\n",
       "   Publisher: Innovative Articles  Publisher: Non-Innovative Articles  \n",
       "0                          4451.0                             24567.0  \n",
       "1                          2520.0                              4653.0  \n",
       "2                          2215.0                              3372.0  \n",
       "3                             0.0                              5475.0  \n",
       "4                          1318.0                              3444.0  \n",
       "5                           220.0                              3280.0  \n",
       "6                           566.0                              2230.0  \n",
       "7                           548.0                              2145.0  \n",
       "8                           830.0                              1430.0  \n",
       "9                           250.0                              1647.0  "
      ]
     },
     "execution_count": 92,
     "metadata": {},
     "output_type": "execute_result"
    }
   ],
   "source": [
    "data_p.head(10)"
   ]
  },
  {
   "cell_type": "code",
   "execution_count": 98,
   "metadata": {},
   "outputs": [
    {
     "name": "stderr",
     "output_type": "stream",
     "text": [
      "<ipython-input-98-a02ee08485b8>:14: RuntimeWarning: invalid value encountered in double_scalars\n",
      "  label_text = str(round((width/(x+width))*100,2))+\"%\"  # f'{width:.2f}' if you have decimal values as labels\n"
     ]
    },
    {
     "data": {
      "image/png": "[encoded data removed]",
      "text/plain": [
       "<Figure size 576x432 with 1 Axes>"
      ]
     },
     "metadata": {
      "needs_background": "light"
     },
     "output_type": "display_data"
    }
   ],
   "source": [
    "i = 0\n",
    "ax = data_p.head(10).sort_values(\"pct_innov\", ascending = True).plot.barh(x='Publisher Name', y = [\"Publisher: Non-Innovative Articles\", \"Publisher: Innovative Articles\"], rot=0, color = ['#232D4B', \"#E57200\"], stacked = True)\n",
    "plt.title(\"Top 10 Innovation Reporting Publishers as a Fraction of Total Articles\")\n",
    "plt.ylabel('Publisher Names')\n",
    "plt.xlabel('Count')\n",
    "for rect in ax.patches:\n",
    "    while i == 10:\n",
    "        height = rect.get_height()\n",
    "        width = rect.get_width()\n",
    "        x = rect.get_x()\n",
    "        y = rect.get_y()\n",
    "\n",
    "        # The width of the bar is the data value and can used as the label\n",
    "        label_text = str(round((width/(x+width))*100,2))+\"%\"  # f'{width:.2f}' if you have decimal values as labels\n",
    "\n",
    "        label_x = x + width+1500\n",
    "        label_y = y + height/2\n",
    "        ax.text(label_x, label_y, label_text, ha='center', va='center', fontsize=8)\n",
    "        i=9\n",
    "    \n",
    "    if i < 10:\n",
    "        i = i + 1\n",
    "    \n",
    "    elif i > 10:\n",
    "        i = 10\n",
    "fig = plt.gcf()\n",
    "fig.set_size_inches(8, 6)\n",
    "plt.savefig(('/project/class/bii_sdad_dspg/uva_2021/binn/images/classification/2017_top_10_publishers_frac.png'), dpi = 600, bbox_inches='tight')\n",
    "plt.show()"
   ]
  },
  {
   "cell_type": "code",
   "execution_count": 250,
   "metadata": {},
   "outputs": [],
   "source": [
    "total_2017_companies = len(software_companies_2017[1:])\n",
    "total_innovative_companies_classified = len(software_companies_2017_yes[1:])\n",
    "total_companies_no_innovation = total_2017_companies - total_innovative_companies_classified"
   ]
  },
  {
   "cell_type": "code",
   "execution_count": 251,
   "metadata": {},
   "outputs": [
    {
     "data": {
      "text/plain": [
       "11536"
      ]
     },
     "execution_count": 251,
     "metadata": {},
     "output_type": "execute_result"
    }
   ],
   "source": [
    "total_2017_companies"
   ]
  },
  {
   "cell_type": "code",
   "execution_count": 252,
   "metadata": {},
   "outputs": [
    {
     "data": {
      "text/plain": [
       "3926"
      ]
     },
     "execution_count": 252,
     "metadata": {},
     "output_type": "execute_result"
    }
   ],
   "source": [
    "total_innovative_companies_classified"
   ]
  },
  {
   "cell_type": "code",
   "execution_count": 253,
   "metadata": {},
   "outputs": [
    {
     "data": {
      "text/plain": [
       "7610"
      ]
     },
     "execution_count": 253,
     "metadata": {},
     "output_type": "execute_result"
    }
   ],
   "source": [
    "total_companies_no_innovation"
   ]
  },
  {
   "cell_type": "code",
   "execution_count": 296,
   "metadata": {},
   "outputs": [
    {
     "data": {
      "image/png": "[encoded data removed]",
      "text/plain": [
       "<Figure size 432x288 with 1 Axes>"
      ]
     },
     "metadata": {},
     "output_type": "display_data"
    }
   ],
   "source": [
    "labels = ['Innovative Mentions', 'Non-Innovative Mentions']\n",
    "sizes = [total_innovative_companies_classified, total_companies_no_innovation]\n",
    "explode = (0.1, 0)\n",
    "colors = (\"#E57200\", \"#232D4B\")\n",
    "fig1, ax1 = plt.subplots()\n",
    "patches, texts, autotexts = ax1.pie(sizes, labels=labels, explode=explode, startangle=90, autopct='%1.1f%%', colors = colors, textprops={'fontsize': 14})\n",
    "texts[0].set_fontsize(12)\n",
    "texts[1].set_fontsize(12)\n",
    "autotexts[0].set_fontsize(10)\n",
    "autotexts[1].set_fontsize(10)\n",
    "ax1.axis('equal')  \n",
    "plt.title(\"Companies Mentioned in Software Articles in 2017\")\n",
    "plt.savefig(('/project/class/bii_sdad_dspg/uva_2021/binn/images/classification/2017_pie_innov_v_no-innov.png'), dpi = 600, bbox_inches='tight')\n",
    "plt.show()"
   ]
  },
  {
   "cell_type": "code",
   "execution_count": null,
   "metadata": {},
   "outputs": [],
   "source": []
  }
 ],
 "metadata": {
  "kernelspec": {
   "display_name": "Python [conda env:.conda-DiggyConda]",
   "language": "python",
   "name": "conda-env-.conda-DiggyConda-py"
  },
  "language_info": {
   "codemirror_mode": {
    "name": "ipython",
    "version": 3
   },
   "file_extension": ".py",
   "mimetype": "text/x-python",
   "name": "python",
   "nbconvert_exporter": "python",
   "pygments_lexer": "ipython3",
   "version": "3.8.10"
  }
 },
 "nbformat": 4,
 "nbformat_minor": 4
}
