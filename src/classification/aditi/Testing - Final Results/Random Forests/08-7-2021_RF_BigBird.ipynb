{
 "cells": [
  {
   "cell_type": "markdown",
   "metadata": {},
   "source": [
    "Implementing Neural Networks\n",
    "\n",
    "The following jupyter notebook implements 4 different BERT models in conjunction with the SciKit-Learn Random Forest classifier. These BERT transformer models are 'roberta-base', 'roberta-large', 'distilroberta-base'."
   ]
  },
  {
   "cell_type": "code",
   "execution_count": 1,
   "metadata": {},
   "outputs": [],
   "source": [
    "## Importing all relevant libraries\n",
    "\n",
    "import random\n",
    "\n",
    "import numpy as np\n",
    "import pandas as pd\n",
    "\n",
    "from sklearn import preprocessing\n",
    "from sklearn.decomposition import PCA\n",
    "from sklearn.preprocessing import StandardScaler\n",
    "from sklearn.model_selection import train_test_split\n",
    "from sklearn.pipeline import make_pipeline\n",
    "from sklearn import metrics\n",
    "from sklearn.metrics import roc_curve, roc_auc_score\n",
    "\n",
    "from transformers import pipeline\n",
    "from transformers import AutoTokenizer, AutoModel\n",
    "from sklearn.ensemble import RandomForestClassifier\n",
    "from sklearn.datasets import make_classification\n",
    "from sklearn.neural_network import MLPClassifier\n",
    "\n",
    "\n",
    "import torch\n",
    "\n",
    "import matplotlib.pyplot as plt\n",
    "%matplotlib inline\n",
    "from mpl_toolkits.mplot3d import Axes3D\n",
    "import seaborn as sns\n",
    "\n",
    "from transformers import BartModel, BartConfig\n",
    "from transformers import BigBirdModel, BigBirdConfig\n"
   ]
  },
  {
   "cell_type": "code",
   "execution_count": 2,
   "metadata": {},
   "outputs": [],
   "source": [
    "## Setting a random seed, this will be the seed for all our random_state seeds\n",
    "random.seed(65432)"
   ]
  },
  {
   "cell_type": "code",
   "execution_count": 3,
   "metadata": {},
   "outputs": [
    {
     "name": "stdout",
     "output_type": "stream",
     "text": [
      "/sfs/qumulo/qhome/am8hf/dspg21binn/src/classification/aditi/Testing - Final Results\n"
     ]
    }
   ],
   "source": [
    "!pwd"
   ]
  },
  {
   "cell_type": "code",
   "execution_count": 4,
   "metadata": {},
   "outputs": [],
   "source": [
    "df = pd.read_excel(r\"Data_600_Labeled_Final copy.xlsx\", index_col=0) ## Reading in data\n",
    "df_save = df.reset_index(inplace=False, drop = True)\n",
    "df = df[['full_text', 'YN_INNOVATION']].reset_index(inplace=False, drop = True)"
   ]
  },
  {
   "cell_type": "raw",
   "metadata": {},
   "source": []
  },
  {
   "cell_type": "code",
   "execution_count": 5,
   "metadata": {},
   "outputs": [
    {
     "name": "stdout",
     "output_type": "stream",
     "text": [
      "Value counts for target variable:\n",
      " yes    222\n",
      "no     222\n",
      "Name: YN_INNOVATION, dtype: int64\n",
      "\n",
      "\n",
      "\n",
      "The target variable classes are: ['no' 'yes']\n"
     ]
    }
   ],
   "source": [
    "## Balancing target class \n",
    "\n",
    "df_yes = df[df.YN_INNOVATION == 'yes']\n",
    "df_no = df[df.YN_INNOVATION == 'no']\n",
    "\n",
    "if len(df_yes) == len(df_no):\n",
    "    df_yes = df_yes.append(df_no)\n",
    "    df = df_yes\n",
    "    \n",
    "elif len(df_yes) > len(df_no):\n",
    "    df_yes = df_yes.sample(n=len(df_no), random_state = 65432)\n",
    "    df_yes = df_yes.append(df_no)\n",
    "    df = df_yes\n",
    "    \n",
    "elif len(df_no) > len(df_yes):\n",
    "    df_no = df_no.sample(n=len(df_yes), random_state = 65432)\n",
    "    df_yes = df_yes.append(df_no)\n",
    "    df = df_yes\n",
    "    \n",
    "df = df.sample(n=len(df), random_state = 65432).reset_index(inplace=False, drop = True)\n",
    "\n",
    "    \n",
    "print(\"Value counts for target variable:\\n\",df.YN_INNOVATION.value_counts())\n",
    "\n",
    "## Encoding target variable\n",
    "\n",
    "le = preprocessing.LabelEncoder()\n",
    "df.YN_INNOVATION = le.fit_transform(df.YN_INNOVATION)\n",
    "print(\"\\n\\n\\nThe target variable classes are:\", le.classes_)"
   ]
  },
  {
   "cell_type": "code",
   "execution_count": 6,
   "metadata": {},
   "outputs": [],
   "source": [
    "## NLP Models from Hugging Face, pretrained_weights object is changed according to required model\n",
    "model_class, tokenizer_class, pretrained_weights = (AutoModel, \n",
    "                                                    AutoTokenizer, ['google/bigbird-roberta-base', 'google/bigbird-roberta-large'])"
   ]
  },
  {
   "cell_type": "code",
   "execution_count": 7,
   "metadata": {},
   "outputs": [
    {
     "name": "stderr",
     "output_type": "stream",
     "text": [
      "Some weights of the model checkpoint at google/bigbird-roberta-base were not used when initializing BigBirdModel: ['cls.predictions.transform.dense.weight', 'cls.predictions.decoder.weight', 'cls.seq_relationship.bias', 'cls.predictions.bias', 'cls.predictions.transform.LayerNorm.bias', 'cls.predictions.transform.LayerNorm.weight', 'cls.predictions.decoder.bias', 'cls.predictions.transform.dense.bias', 'cls.seq_relationship.weight']\n",
      "- This IS expected if you are initializing BigBirdModel from the checkpoint of a model trained on another task or with another architecture (e.g. initializing a BertForSequenceClassification model from a BertForPreTraining model).\n",
      "- This IS NOT expected if you are initializing BigBirdModel from the checkpoint of a model that you expect to be exactly identical (initializing a BertForSequenceClassification model from a BertForSequenceClassification model).\n",
      "Attention type 'block_sparse' is not possible if sequence_length: 512 <= num global tokens: 2 * config.block_size + min. num sliding tokens: 3 * config.block_size + config.num_random_blocks * config.block_size + additional buffer: config.num_random_blocks * config.block_size = 704 with config.block_size = 64, config.num_random_blocks = 3.Changing attention type to 'original_full'...\n",
      "Some weights of the model checkpoint at google/bigbird-roberta-large were not used when initializing BigBirdModel: ['cls.predictions.transform.dense.weight', 'cls.predictions.decoder.weight', 'cls.seq_relationship.bias', 'cls.predictions.bias', 'cls.predictions.transform.LayerNorm.bias', 'cls.predictions.transform.LayerNorm.weight', 'cls.predictions.decoder.bias', 'cls.predictions.transform.dense.bias', 'cls.seq_relationship.weight']\n",
      "- This IS expected if you are initializing BigBirdModel from the checkpoint of a model trained on another task or with another architecture (e.g. initializing a BertForSequenceClassification model from a BertForPreTraining model).\n",
      "- This IS NOT expected if you are initializing BigBirdModel from the checkpoint of a model that you expect to be exactly identical (initializing a BertForSequenceClassification model from a BertForSequenceClassification model).\n",
      "Attention type 'block_sparse' is not possible if sequence_length: 512 <= num global tokens: 2 * config.block_size + min. num sliding tokens: 3 * config.block_size + config.num_random_blocks * config.block_size + additional buffer: config.num_random_blocks * config.block_size = 704 with config.block_size = 64, config.num_random_blocks = 3.Changing attention type to 'original_full'...\n"
     ]
    }
   ],
   "source": [
    "\n",
    "features_dict = {} ## Empty dict to store features\n",
    "\n",
    "\n",
    "for weights in pretrained_weights:\n",
    "    # Load pretrained model/tokenizer\n",
    "    \n",
    "    tokenizer = tokenizer_class.from_pretrained(weights)\n",
    "    \n",
    "    model = model_class.from_pretrained(weights)\n",
    "    \n",
    "    ## Tokenization\n",
    "    tokenized = df['full_text'].apply((lambda x: tokenizer.encode(x,\n",
    "                                                                  add_special_tokens=True, \n",
    "                                                                  truncation=True,\n",
    "                                                                  max_length=512)))\n",
    "    ## Padding\n",
    "    max_len = 0\n",
    "    for i in tokenized.values:\n",
    "        if len(i) > max_len:\n",
    "            max_len = len(i)\n",
    "    \n",
    "    padded = np.array([i + [0]*(max_len-len(i)) for i in tokenized.values])\n",
    "    \n",
    "    ## Attention Mask\n",
    "    attention_mask = np.where(padded != 0, 1, 0)\n",
    "    \n",
    "    input_ids = torch.tensor(padded)\n",
    "    attention_mask = torch.tensor(attention_mask)\n",
    "    \n",
    "    with torch.no_grad():\n",
    "        last_hidden_states = model(input_ids, attention_mask=attention_mask)\n",
    "    \n",
    "    ## Features\n",
    "    features = last_hidden_states[0][:,0,:].numpy()\n",
    "    features_dict.update({weights:features})"
   ]
  },
  {
   "cell_type": "code",
   "execution_count": 8,
   "metadata": {},
   "outputs": [],
   "source": [
    "labels = df.YN_INNOVATION ## Target variable"
   ]
  },
  {
   "cell_type": "code",
   "execution_count": 9,
   "metadata": {},
   "outputs": [],
   "source": [
    "## Splitting th data into train and test sets of features and target\n",
    "train_features_dict = {}\n",
    "test_features_dict = {}\n",
    "train_labels_dict = {}\n",
    "test_labels_dict = {}\n",
    "\n",
    "for weights, features in features_dict.items():\n",
    "    train_features, test_features, train_labels, test_labels = train_test_split(features, labels, random_state = 65432)\n",
    "    train_features_dict.update({weights:train_features})\n",
    "    test_features_dict.update({weights:test_features})\n",
    "    train_labels_dict.update({weights:train_labels})\n",
    "    test_labels_dict.update({weights:test_labels})"
   ]
  },
  {
   "cell_type": "code",
   "execution_count": 10,
   "metadata": {},
   "outputs": [],
   "source": [
    "test_labels_predict_dict = {}\n",
    "test_labels_predict_proba_dict = {}\n",
    "#solver_list = ['sgd', 'lbfgs', 'adam']\n",
    "for key in features_dict.keys():\n",
    "    #for solver in solver_list:\n",
    "        clf = RandomForestClassifier(max_depth=5, random_state=65432, \n",
    "                                     min_samples_split=20, warm_start=True, \n",
    "                                     max_leaf_nodes=None)\n",
    "        clf.fit(train_features_dict[key],train_labels_dict[key])\n",
    "        predicted_y = clf.predict(test_features_dict[key])\n",
    "        pred_prob = clf.predict_proba(test_features_dict[key])[:, 1]\n",
    "        test_labels_predict_dict.update({key+\"_\":predicted_y})\n",
    "        test_labels_predict_proba_dict.update({key+\"_\":pred_prob})"
   ]
  },
  {
   "cell_type": "markdown",
   "metadata": {},
   "source": [
    "        test_labels_predict_dict.update({key+\"_\"+solver+\"-solver\":predicted_y})\n",
    "        test_labels_predict_proba_dict.update({key+\"_\"+solver+\"-solver\":pred_prob})"
   ]
  },
  {
   "cell_type": "code",
   "execution_count": 11,
   "metadata": {},
   "outputs": [
    {
     "name": "stdout",
     "output_type": "stream",
     "text": [
      "\n",
      "========= google/bigbird-roberta-base_ model ==========\n",
      "\n",
      "Accuracy of the of the google/bigbird-roberta-base_ model is 83.78%.\n",
      "Precision rate of the google/bigbird-roberta-base_ model is 79.1%.\n",
      "Recall rate of the google/bigbird-roberta-base_ model is 92.98%.\n",
      "F-1 score of the google/bigbird-roberta-base_ model is 85.48%.\n",
      "\n",
      "The confusion matrix for the google/bigbird-roberta-base_ model is:\n"
     ]
    },
    {
     "data": {
      "image/png": "[encoded data removed]",
      "text/plain": [
       "<Figure size 432x288 with 2 Axes>"
      ]
     },
     "metadata": {
      "needs_background": "light"
     },
     "output_type": "display_data"
    },
    {
     "data": {
      "image/png": "[encoded data removed]",
      "text/plain": [
       "<Figure size 432x288 with 1 Axes>"
      ]
     },
     "metadata": {
      "needs_background": "light"
     },
     "output_type": "display_data"
    },
    {
     "name": "stdout",
     "output_type": "stream",
     "text": [
      "\n",
      "========= google/bigbird-roberta-large_ model ==========\n",
      "\n",
      "Accuracy of the of the google/bigbird-roberta-large_ model is 82.88%.\n",
      "Precision rate of the google/bigbird-roberta-large_ model is 79.69%.\n",
      "Recall rate of the google/bigbird-roberta-large_ model is 89.47%.\n",
      "F-1 score of the google/bigbird-roberta-large_ model is 84.3%.\n",
      "\n",
      "The confusion matrix for the google/bigbird-roberta-large_ model is:\n"
     ]
    },
    {
     "data": {
      "image/png": "[encoded data removed]",
      "text/plain": [
       "<Figure size 432x288 with 2 Axes>"
      ]
     },
     "metadata": {
      "needs_background": "light"
     },
     "output_type": "display_data"
    },
    {
     "data": {
      "image/png": "[encoded data removed]",
      "text/plain": [
       "<Figure size 432x288 with 1 Axes>"
      ]
     },
     "metadata": {
      "needs_background": "light"
     },
     "output_type": "display_data"
    }
   ],
   "source": [
    "for key in test_labels_predict_dict.keys():\n",
    "    print(\"\\n=========\",key, \"model ==========\\n\")\n",
    "    key0 = str.split(key, \"_\")[0]\n",
    "    \n",
    "    # Metrics\n",
    "    accuracy = metrics.accuracy_score(test_labels_dict[key0],y_pred=test_labels_predict_dict[key])\n",
    "    precision=metrics.precision_score(test_labels_dict[key0],y_pred=test_labels_predict_dict[key])\n",
    "    recall=metrics.recall_score(test_labels_dict[key0],y_pred=test_labels_predict_dict[key])\n",
    "    f1_score = metrics.f1_score(test_labels_dict[key0],y_pred=test_labels_predict_dict[key])\n",
    "    \n",
    "    print(\"Accuracy of the of the\", key ,\"model is {}%.\".format(round((accuracy*100),2)))\n",
    "    print(\"Precision rate of the\", key, \"model is {}%.\".format(round((precision*100),2)))\n",
    "    print(\"Recall rate of the\", key, \"model is {}%.\".format(round((recall*100),2)))\n",
    "    print(\"F-1 score of the\", key, \"model is {}%.\".format(round((f1_score*100),2)))\n",
    "    \n",
    "    # Confusion Matrix\n",
    "    print(\"\\nThe confusion matrix for the\", key,\"model is:\")\n",
    "    class_names=[0,1] # name  of classes\n",
    "    fig, ax = plt.subplots()\n",
    "    tick_marks = np.arange(len(class_names))\n",
    "    plt.xticks(tick_marks, class_names)\n",
    "    plt.yticks(tick_marks, class_names)\n",
    "    group_names = [\"True Neg\",\"False Pos\",\"False Neg\",\"True Pos\"]\n",
    "    group_counts = [\"{0:0.0f}\".format(value) for value in metrics.confusion_matrix(test_labels_dict[key0],y_pred=test_labels_predict_dict[key]).flatten()]\n",
    "    group_percentages = [\"{0:.2%}\".format(value) for value in metrics.confusion_matrix(test_labels_dict[key0],y_pred=test_labels_predict_dict[key]).flatten()/np.sum(metrics.confusion_matrix(test_labels_dict[key0],y_pred=test_labels_predict_dict[key]))]\n",
    "    labels = [f\"{v1}\\n{v2}\\n{v3}\" for v1, v2, v3 in zip(group_names,group_counts,group_percentages)]\n",
    "    labels = np.asarray(labels).reshape(2,2)\n",
    "    sns.heatmap(metrics.confusion_matrix(test_labels_dict[key0],y_pred=test_labels_predict_dict[key]), annot=labels, fmt='', cmap='Greens')\n",
    "    ax.xaxis.set_label_position(\"top\")\n",
    "    plt.tight_layout()\n",
    "    plt.title('Confusion matrix for %r'%key, y=1.1)\n",
    "    plt.ylabel('Actual Innovation')\n",
    "    plt.xlabel('Predicted Innovation')\n",
    "    plt.show()\n",
    "    \n",
    "    \n",
    "    # ROC Graph\n",
    "    fpr, tpr, thresholds = roc_curve(test_labels_dict[key0], test_labels_predict_proba_dict[key])\n",
    "    auc = roc_auc_score(test_labels_dict[key0], test_labels_predict_proba_dict[key])\n",
    "\n",
    "    plt.plot(fpr, tpr)\n",
    "    plt.plot([0, 1], [0, 1], linestyle='--', color=\"red\")\n",
    "    plt.xlabel(\"False Positive Rate\")\n",
    "    plt.ylabel(\"True Positive Rate\")\n",
    "    plt.title(\"ROC Curve for the \"+key+\" model.\\nAUC = \"+str(round(auc*100, 3))+\"%\")\n",
    "    plt.show()"
   ]
  },
  {
   "cell_type": "code",
   "execution_count": 12,
   "metadata": {},
   "outputs": [],
   "source": [
    "metrics_dict = {}\n",
    "\n",
    "for key in test_labels_predict_dict.keys():\n",
    "    key0 = str.split(key, \"_\")[0]\n",
    "    accuracy = metrics.accuracy_score(test_labels_dict[key0],y_pred=test_labels_predict_dict[key])\n",
    "    precision=metrics.precision_score(test_labels_dict[key0],y_pred=test_labels_predict_dict[key])\n",
    "    recall=metrics.recall_score(test_labels_dict[key0],y_pred=test_labels_predict_dict[key])\n",
    "    f1_score = metrics.f1_score(test_labels_dict[key0],y_pred=test_labels_predict_dict[key])\n",
    "    auc = roc_auc_score(test_labels_dict[key0], test_labels_predict_proba_dict[key])\n",
    "    \n",
    "    true_neg = metrics.confusion_matrix(test_labels_dict[key0], test_labels_predict_dict[key])[0][0]\n",
    "    false_pos = metrics.confusion_matrix(test_labels_dict[key0], test_labels_predict_dict[key])[0][1]\n",
    "    false_neg = metrics.confusion_matrix(test_labels_dict[key0], test_labels_predict_dict[key])[1][0]\n",
    "    true_pos = metrics.confusion_matrix(test_labels_dict[key0], test_labels_predict_dict[key])[1][1]\n",
    "    \n",
    "    metrics_dict.update({key:{\"accuracy\": accuracy, \n",
    "                              \"precision\": precision, \n",
    "                              \"recall\": recall, \n",
    "                              \"f1_score\": f1_score, \n",
    "                              \"auc\": auc,\n",
    "                              \"true_positive\": true_pos,\n",
    "                              \"true_negative\": true_neg, \n",
    "                              \"false_positive\": false_pos,\n",
    "                              \"false_negative\": false_neg}})"
   ]
  },
  {
   "cell_type": "code",
   "execution_count": 13,
   "metadata": {},
   "outputs": [
    {
     "data": {
      "text/html": [
       "<div>\n",
       "<style scoped>\n",
       "    .dataframe tbody tr th:only-of-type {\n",
       "        vertical-align: middle;\n",
       "    }\n",
       "\n",
       "    .dataframe tbody tr th {\n",
       "        vertical-align: top;\n",
       "    }\n",
       "\n",
       "    .dataframe thead th {\n",
       "        text-align: right;\n",
       "    }\n",
       "</style>\n",
       "<table border=\"1\" class=\"dataframe\">\n",
       "  <thead>\n",
       "    <tr style=\"text-align: right;\">\n",
       "      <th></th>\n",
       "      <th>accuracy</th>\n",
       "      <th>precision</th>\n",
       "      <th>recall</th>\n",
       "      <th>f1_score</th>\n",
       "      <th>auc</th>\n",
       "      <th>true_positive</th>\n",
       "      <th>true_negative</th>\n",
       "      <th>false_positive</th>\n",
       "      <th>false_negative</th>\n",
       "    </tr>\n",
       "  </thead>\n",
       "  <tbody>\n",
       "    <tr>\n",
       "      <th>google/bigbird-roberta-base_</th>\n",
       "      <td>0.837838</td>\n",
       "      <td>0.791045</td>\n",
       "      <td>0.929825</td>\n",
       "      <td>0.854839</td>\n",
       "      <td>0.901559</td>\n",
       "      <td>53.0</td>\n",
       "      <td>40.0</td>\n",
       "      <td>14.0</td>\n",
       "      <td>4.0</td>\n",
       "    </tr>\n",
       "    <tr>\n",
       "      <th>google/bigbird-roberta-large_</th>\n",
       "      <td>0.828829</td>\n",
       "      <td>0.796875</td>\n",
       "      <td>0.894737</td>\n",
       "      <td>0.842975</td>\n",
       "      <td>0.883691</td>\n",
       "      <td>51.0</td>\n",
       "      <td>41.0</td>\n",
       "      <td>13.0</td>\n",
       "      <td>6.0</td>\n",
       "    </tr>\n",
       "  </tbody>\n",
       "</table>\n",
       "</div>"
      ],
      "text/plain": [
       "                               accuracy  precision    recall  f1_score  \\\n",
       "google/bigbird-roberta-base_   0.837838   0.791045  0.929825  0.854839   \n",
       "google/bigbird-roberta-large_  0.828829   0.796875  0.894737  0.842975   \n",
       "\n",
       "                                    auc  true_positive  true_negative  \\\n",
       "google/bigbird-roberta-base_   0.901559           53.0           40.0   \n",
       "google/bigbird-roberta-large_  0.883691           51.0           41.0   \n",
       "\n",
       "                               false_positive  false_negative  \n",
       "google/bigbird-roberta-base_             14.0             4.0  \n",
       "google/bigbird-roberta-large_            13.0             6.0  "
      ]
     },
     "execution_count": 13,
     "metadata": {},
     "output_type": "execute_result"
    }
   ],
   "source": [
    "pd.DataFrame(metrics_dict).T"
   ]
  },
  {
   "cell_type": "code",
   "execution_count": null,
   "metadata": {},
   "outputs": [],
   "source": []
  },
  {
   "cell_type": "code",
   "execution_count": 14,
   "metadata": {},
   "outputs": [],
   "source": [
    "## Saving NN Model metrics to DataFrame\n",
    "pd.DataFrame(metrics_dict).T.to_csv(\"RF_model_metrics_BigBirds.csv\")"
   ]
  },
  {
   "cell_type": "code",
   "execution_count": 15,
   "metadata": {},
   "outputs": [
    {
     "ename": "KeyError",
     "evalue": "'bert-base-cased'",
     "output_type": "error",
     "traceback": [
      "\u001b[0;31m---------------------------------------------------------------------------\u001b[0m",
      "\u001b[0;31mKeyError\u001b[0m                                  Traceback (most recent call last)",
      "\u001b[0;32m<ipython-input-15-1268ef735ea9>\u001b[0m in \u001b[0;36m<module>\u001b[0;34m\u001b[0m\n\u001b[1;32m      1\u001b[0m \u001b[0;31m## Saving a dataframe of the data with predicted labels from models\u001b[0m\u001b[0;34m\u001b[0m\u001b[0;34m\u001b[0m\u001b[0;34m\u001b[0m\u001b[0m\n\u001b[0;32m----> 2\u001b[0;31m \u001b[0mpred_df\u001b[0m \u001b[0;34m=\u001b[0m \u001b[0mpd\u001b[0m\u001b[0;34m.\u001b[0m\u001b[0mDataFrame\u001b[0m\u001b[0;34m(\u001b[0m\u001b[0mtest_labels_predict_dict\u001b[0m\u001b[0;34m,\u001b[0m \u001b[0mindex\u001b[0m \u001b[0;34m=\u001b[0m \u001b[0mtest_labels_dict\u001b[0m\u001b[0;34m[\u001b[0m\u001b[0;34m'bert-base-cased'\u001b[0m\u001b[0;34m]\u001b[0m\u001b[0;34m.\u001b[0m\u001b[0mindex\u001b[0m\u001b[0;34m)\u001b[0m\u001b[0;34m\u001b[0m\u001b[0;34m\u001b[0m\u001b[0m\n\u001b[0m\u001b[1;32m      3\u001b[0m pd.concat([df_save.iloc[test_labels_dict['bert-base-cased'].index,], \n\u001b[1;32m      4\u001b[0m            pred_df], axis=1).to_csv(\"NN_test_data_comparison.csv\")\n",
      "\u001b[0;31mKeyError\u001b[0m: 'bert-base-cased'"
     ]
    }
   ],
   "source": []
  },
  {
   "cell_type": "code",
   "execution_count": null,
   "metadata": {},
   "outputs": [],
   "source": []
  }
 ],
 "metadata": {
  "kernelspec": {
   "display_name": "Python [conda env:.conda-AM_BERT]",
   "language": "python",
   "name": "conda-env-.conda-AM_BERT-py"
  },
  "language_info": {
   "codemirror_mode": {
    "name": "ipython",
    "version": 3
   },
   "file_extension": ".py",
   "mimetype": "text/x-python",
   "name": "python",
   "nbconvert_exporter": "python",
   "pygments_lexer": "ipython3",
   "version": "3.8.10"
  }
 },
 "nbformat": 4,
 "nbformat_minor": 4
}
