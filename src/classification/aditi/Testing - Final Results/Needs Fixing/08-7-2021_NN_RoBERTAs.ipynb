{
 "cells": [
  {
   "cell_type": "markdown",
   "metadata": {},
   "source": [
    "Implementing Neural Networks\n",
    "\n",
    "The following jupyter notebook implements 4 different BERT models in conjunction with the SciKit-Learn Random Forest classifier. These BERT transformer models are 'roberta-base', 'roberta-large', 'distilroberta-base'."
   ]
  },
  {
   "cell_type": "code",
   "execution_count": 1,
   "metadata": {},
   "outputs": [],
   "source": [
    "## Importing all relevant libraries\n",
    "\n",
    "import random\n",
    "\n",
    "import numpy as np\n",
    "import pandas as pd\n",
    "\n",
    "from sklearn import preprocessing\n",
    "from sklearn.decomposition import PCA\n",
    "from sklearn.preprocessing import StandardScaler\n",
    "from sklearn.model_selection import train_test_split\n",
    "from sklearn.pipeline import make_pipeline\n",
    "from sklearn import metrics\n",
    "from sklearn.metrics import roc_curve, roc_auc_score\n",
    "\n",
    "from transformers import pipeline\n",
    "from transformers import AutoTokenizer, AutoModel\n",
    "from sklearn.ensemble import RandomForestClassifier\n",
    "from sklearn.datasets import make_classification\n",
    "from sklearn.neural_network import MLPClassifier\n",
    "\n",
    "\n",
    "import torch\n",
    "\n",
    "import matplotlib.pyplot as plt\n",
    "%matplotlib inline\n",
    "from mpl_toolkits.mplot3d import Axes3D\n",
    "import seaborn as sns"
   ]
  },
  {
   "cell_type": "code",
   "execution_count": 2,
   "metadata": {},
   "outputs": [],
   "source": [
    "## Setting a random seed, this will be the seed for all our random_state seeds\n",
    "random.seed(65432)"
   ]
  },
  {
   "cell_type": "code",
   "execution_count": 3,
   "metadata": {},
   "outputs": [
    {
     "name": "stdout",
     "output_type": "stream",
     "text": [
      "/sfs/qumulo/qhome/am8hf/dspg21binn/src/classification/aditi/Testing - Final Results\n"
     ]
    }
   ],
   "source": [
    "!pwd"
   ]
  },
  {
   "cell_type": "code",
   "execution_count": 4,
   "metadata": {},
   "outputs": [],
   "source": [
    "df = pd.read_excel(r\"Data_600_Labeled_Final copy.xlsx\", index_col=0) ## Reading in data\n",
    "df_save = df.reset_index(inplace=False, drop = True)\n",
    "df = df[['full_text', 'YN_INNOVATION']].reset_index(inplace=False, drop = True)"
   ]
  },
  {
   "cell_type": "raw",
   "metadata": {},
   "source": []
  },
  {
   "cell_type": "code",
   "execution_count": 5,
   "metadata": {},
   "outputs": [
    {
     "name": "stdout",
     "output_type": "stream",
     "text": [
      "Value counts for target variable:\n",
      " no     222\n",
      "yes    222\n",
      "Name: YN_INNOVATION, dtype: int64\n",
      "\n",
      "\n",
      "\n",
      "The target variable classes are: ['no' 'yes']\n"
     ]
    }
   ],
   "source": [
    "## Balancing target class \n",
    "\n",
    "df_yes = df[df.YN_INNOVATION == 'yes']\n",
    "df_no = df[df.YN_INNOVATION == 'no']\n",
    "\n",
    "if len(df_yes) == len(df_no):\n",
    "    df_yes = df_yes.append(df_no)\n",
    "    df = df_yes\n",
    "    \n",
    "elif len(df_yes) > len(df_no):\n",
    "    df_yes = df_yes.sample(n=len(df_no), random_state = 65432)\n",
    "    df_yes = df_yes.append(df_no)\n",
    "    df = df_yes\n",
    "    \n",
    "elif len(df_no) > len(df_yes):\n",
    "    df_no = df_no.sample(n=len(df_yes), random_state = 65432)\n",
    "    df_yes = df_yes.append(df_no)\n",
    "    df = df_yes\n",
    "    \n",
    "df = df.sample(n=len(df), random_state = 65432).reset_index(inplace=False, drop = True)\n",
    "\n",
    "    \n",
    "print(\"Value counts for target variable:\\n\",df.YN_INNOVATION.value_counts())\n",
    "\n",
    "## Encoding target variable\n",
    "\n",
    "le = preprocessing.LabelEncoder()\n",
    "df.YN_INNOVATION = le.fit_transform(df.YN_INNOVATION)\n",
    "print(\"\\n\\n\\nThe target variable classes are:\", le.classes_)"
   ]
  },
  {
   "cell_type": "code",
   "execution_count": 6,
   "metadata": {},
   "outputs": [],
   "source": [
    "## NLP Models from Hugging Face, pretrained_weights object is changed according to required model\n",
    "model_class, tokenizer_class, pretrained_weights = (AutoModel, \n",
    "                                                    AutoTokenizer, ['roberta-base', \n",
    "                                                                    'roberta-large', \n",
    "                                                                    'distilroberta-base'\n",
    "                                                                    ])"
   ]
  },
  {
   "cell_type": "code",
   "execution_count": 7,
   "metadata": {},
   "outputs": [
    {
     "name": "stderr",
     "output_type": "stream",
     "text": [
      "Some weights of the model checkpoint at roberta-base were not used when initializing RobertaModel: ['lm_head.dense.bias', 'lm_head.bias', 'lm_head.dense.weight', 'lm_head.layer_norm.bias', 'lm_head.layer_norm.weight', 'lm_head.decoder.weight']\n",
      "- This IS expected if you are initializing RobertaModel from the checkpoint of a model trained on another task or with another architecture (e.g. initializing a BertForSequenceClassification model from a BertForPreTraining model).\n",
      "- This IS NOT expected if you are initializing RobertaModel from the checkpoint of a model that you expect to be exactly identical (initializing a BertForSequenceClassification model from a BertForSequenceClassification model).\n",
      "Some weights of the model checkpoint at roberta-large were not used when initializing RobertaModel: ['lm_head.dense.bias', 'lm_head.bias', 'lm_head.dense.weight', 'lm_head.layer_norm.bias', 'lm_head.layer_norm.weight', 'lm_head.decoder.weight']\n",
      "- This IS expected if you are initializing RobertaModel from the checkpoint of a model trained on another task or with another architecture (e.g. initializing a BertForSequenceClassification model from a BertForPreTraining model).\n",
      "- This IS NOT expected if you are initializing RobertaModel from the checkpoint of a model that you expect to be exactly identical (initializing a BertForSequenceClassification model from a BertForSequenceClassification model).\n",
      "Some weights of the model checkpoint at distilroberta-base were not used when initializing RobertaModel: ['lm_head.dense.bias', 'lm_head.bias', 'lm_head.dense.weight', 'lm_head.layer_norm.bias', 'lm_head.layer_norm.weight', 'lm_head.decoder.weight']\n",
      "- This IS expected if you are initializing RobertaModel from the checkpoint of a model trained on another task or with another architecture (e.g. initializing a BertForSequenceClassification model from a BertForPreTraining model).\n",
      "- This IS NOT expected if you are initializing RobertaModel from the checkpoint of a model that you expect to be exactly identical (initializing a BertForSequenceClassification model from a BertForSequenceClassification model).\n"
     ]
    }
   ],
   "source": [
    "features_dict = {} ## Empty dict to store features\n",
    "for weights in pretrained_weights:\n",
    "    # Load pretrained model/tokenizer\n",
    "    \n",
    "    tokenizer = tokenizer_class.from_pretrained(weights)\n",
    "    \n",
    "    model = model_class.from_pretrained(weights)\n",
    "    \n",
    "    ## Tokenization\n",
    "    tokenized = df['full_text'].apply((lambda x: tokenizer.encode(x,\n",
    "                                                                  add_special_tokens=True, \n",
    "                                                                  truncation=True,\n",
    "                                                                  max_length=512)))\n",
    "    ## Padding\n",
    "    max_len = 0\n",
    "    for i in tokenized.values:\n",
    "        if len(i) > max_len:\n",
    "            max_len = len(i)\n",
    "    \n",
    "    padded = np.array([i + [0]*(max_len-len(i)) for i in tokenized.values])\n",
    "    \n",
    "    ## Attention Mask\n",
    "    attention_mask = np.where(padded != 0, 1, 0)\n",
    "    \n",
    "    input_ids = torch.tensor(padded)\n",
    "    attention_mask = torch.tensor(attention_mask)\n",
    "    \n",
    "    with torch.no_grad():\n",
    "        last_hidden_states = model(input_ids, attention_mask=attention_mask)\n",
    "    \n",
    "    ## Features\n",
    "    features = last_hidden_states[0][:,0,:].numpy()\n",
    "    features_dict.update({weights:features})"
   ]
  },
  {
   "cell_type": "code",
   "execution_count": 8,
   "metadata": {},
   "outputs": [],
   "source": [
    "labels = df.YN_INNOVATION ## Target variable"
   ]
  },
  {
   "cell_type": "code",
   "execution_count": 9,
   "metadata": {},
   "outputs": [],
   "source": [
    "## Splitting th data into train and test sets of features and target\n",
    "train_features_dict = {}\n",
    "test_features_dict = {}\n",
    "train_labels_dict = {}\n",
    "test_labels_dict = {}\n",
    "\n",
    "for weights, features in features_dict.items():\n",
    "    train_features, test_features, train_labels, test_labels = train_test_split(features, labels, random_state = 65432)\n",
    "    train_features_dict.update({weights:train_features})\n",
    "    test_features_dict.update({weights:test_features})\n",
    "    train_labels_dict.update({weights:train_labels})\n",
    "    test_labels_dict.update({weights:test_labels})"
   ]
  },
  {
   "cell_type": "code",
   "execution_count": 10,
   "metadata": {},
   "outputs": [],
   "source": [
    "test_labels_predict_dict = {}\n",
    "test_labels_predict_proba_dict = {}\n",
    "solver_list = ['sgd', 'lbfgs', 'adam']\n",
    "for key in features_dict.keys():\n",
    "    for solver in solver_list:\n",
    "        clf = MLPClassifier(solver=solver, alpha=1e-5, hidden_layer_sizes=(5, 5), random_state=65432, \n",
    "                            warm_start=True, max_iter=10000)\n",
    "        clf.fit(train_features_dict[key],train_labels_dict[key])\n",
    "        predicted_y = clf.predict(test_features_dict[key])\n",
    "        pred_prob = clf.predict_proba(test_features_dict[key])[:, 1]\n",
    "        test_labels_predict_dict.update({key+\"_\":predicted_y})\n",
    "        test_labels_predict_dict.update({key+\"_\"+solver+\"-solver\":predicted_y})\n",
    "        test_labels_predict_proba_dict.update({key+\"_\"+solver+\"-solver\":pred_prob})"
   ]
  },
  {
   "cell_type": "code",
   "execution_count": 11,
   "metadata": {},
   "outputs": [
    {
     "name": "stdout",
     "output_type": "stream",
     "text": [
      "\n",
      "========= roberta-base_ model ==========\n",
      "\n",
      "Accuracy of the of the roberta-base_ model is 76.58%.\n",
      "Precision rate of the roberta-base_ model is 75.41%.\n",
      "Recall rate of the roberta-base_ model is 80.7%.\n",
      "F-1 score of the roberta-base_ model is 77.97%.\n",
      "\n",
      "The confusion matrix for the roberta-base_ model is:\n"
     ]
    },
    {
     "data": {
      "image/png": "[encoded data removed]",
      "text/plain": [
       "<Figure size 432x288 with 2 Axes>"
      ]
     },
     "metadata": {
      "needs_background": "light"
     },
     "output_type": "display_data"
    },
    {
     "ename": "KeyError",
     "evalue": "'roberta-base_'",
     "output_type": "error",
     "traceback": [
      "\u001b[0;31m---------------------------------------------------------------------------\u001b[0m",
      "\u001b[0;31mKeyError\u001b[0m                                  Traceback (most recent call last)",
      "\u001b[0;32m<ipython-input-11-012c3cd73e76>\u001b[0m in \u001b[0;36m<module>\u001b[0;34m\u001b[0m\n\u001b[1;32m     36\u001b[0m \u001b[0;34m\u001b[0m\u001b[0m\n\u001b[1;32m     37\u001b[0m     \u001b[0;31m# ROC Graph\u001b[0m\u001b[0;34m\u001b[0m\u001b[0;34m\u001b[0m\u001b[0;34m\u001b[0m\u001b[0m\n\u001b[0;32m---> 38\u001b[0;31m     \u001b[0mfpr\u001b[0m\u001b[0;34m,\u001b[0m \u001b[0mtpr\u001b[0m\u001b[0;34m,\u001b[0m \u001b[0mthresholds\u001b[0m \u001b[0;34m=\u001b[0m \u001b[0mroc_curve\u001b[0m\u001b[0;34m(\u001b[0m\u001b[0mtest_labels_dict\u001b[0m\u001b[0;34m[\u001b[0m\u001b[0mkey0\u001b[0m\u001b[0;34m]\u001b[0m\u001b[0;34m,\u001b[0m \u001b[0mtest_labels_predict_proba_dict\u001b[0m\u001b[0;34m[\u001b[0m\u001b[0mkey\u001b[0m\u001b[0;34m]\u001b[0m\u001b[0;34m)\u001b[0m\u001b[0;34m\u001b[0m\u001b[0;34m\u001b[0m\u001b[0m\n\u001b[0m\u001b[1;32m     39\u001b[0m     \u001b[0mauc\u001b[0m \u001b[0;34m=\u001b[0m \u001b[0mroc_auc_score\u001b[0m\u001b[0;34m(\u001b[0m\u001b[0mtest_labels_dict\u001b[0m\u001b[0;34m[\u001b[0m\u001b[0mkey0\u001b[0m\u001b[0;34m]\u001b[0m\u001b[0;34m,\u001b[0m \u001b[0mtest_labels_predict_proba_dict\u001b[0m\u001b[0;34m[\u001b[0m\u001b[0mkey\u001b[0m\u001b[0;34m]\u001b[0m\u001b[0;34m)\u001b[0m\u001b[0;34m\u001b[0m\u001b[0;34m\u001b[0m\u001b[0m\n\u001b[1;32m     40\u001b[0m \u001b[0;34m\u001b[0m\u001b[0m\n",
      "\u001b[0;31mKeyError\u001b[0m: 'roberta-base_'"
     ]
    }
   ],
   "source": [
    "for key in test_labels_predict_dict.keys():\n",
    "    print(\"\\n=========\",key, \"model ==========\\n\")\n",
    "    key0 = str.split(key, \"_\")[0]\n",
    "    \n",
    "    # Metrics\n",
    "    accuracy = metrics.accuracy_score(test_labels_dict[key0],y_pred=test_labels_predict_dict[key])\n",
    "    precision=metrics.precision_score(test_labels_dict[key0],y_pred=test_labels_predict_dict[key])\n",
    "    recall=metrics.recall_score(test_labels_dict[key0],y_pred=test_labels_predict_dict[key])\n",
    "    f1_score = metrics.f1_score(test_labels_dict[key0],y_pred=test_labels_predict_dict[key])\n",
    "    \n",
    "    print(\"Accuracy of the of the\", key ,\"model is {}%.\".format(round((accuracy*100),2)))\n",
    "    print(\"Precision rate of the\", key, \"model is {}%.\".format(round((precision*100),2)))\n",
    "    print(\"Recall rate of the\", key, \"model is {}%.\".format(round((recall*100),2)))\n",
    "    print(\"F-1 score of the\", key, \"model is {}%.\".format(round((f1_score*100),2)))\n",
    "    \n",
    "    # Confusion Matrix\n",
    "    print(\"\\nThe confusion matrix for the\", key,\"model is:\")\n",
    "    class_names=[0,1] # name  of classes\n",
    "    fig, ax = plt.subplots()\n",
    "    tick_marks = np.arange(len(class_names))\n",
    "    plt.xticks(tick_marks, class_names)\n",
    "    plt.yticks(tick_marks, class_names)\n",
    "    group_names = [\"True Neg\",\"False Pos\",\"False Neg\",\"True Pos\"]\n",
    "    group_counts = [\"{0:0.0f}\".format(value) for value in metrics.confusion_matrix(test_labels_dict[key0],y_pred=test_labels_predict_dict[key]).flatten()]\n",
    "    group_percentages = [\"{0:.2%}\".format(value) for value in metrics.confusion_matrix(test_labels_dict[key0],y_pred=test_labels_predict_dict[key]).flatten()/np.sum(metrics.confusion_matrix(test_labels_dict[key0],y_pred=test_labels_predict_dict[key]))]\n",
    "    labels = [f\"{v1}\\n{v2}\\n{v3}\" for v1, v2, v3 in zip(group_names,group_counts,group_percentages)]\n",
    "    labels = np.asarray(labels).reshape(2,2)\n",
    "    sns.heatmap(metrics.confusion_matrix(test_labels_dict[key0],y_pred=test_labels_predict_dict[key]), annot=labels, fmt='', cmap='Greens')\n",
    "    ax.xaxis.set_label_position(\"top\")\n",
    "    plt.tight_layout()\n",
    "    plt.title('Confusion matrix for %r'%key, y=1.1)\n",
    "    plt.ylabel('Actual Innovation')\n",
    "    plt.xlabel('Predicted Innovation')\n",
    "    plt.show()\n",
    "    \n",
    "    \n",
    "    # ROC Graph\n",
    "    fpr, tpr, thresholds = roc_curve(test_labels_dict[key0], test_labels_predict_proba_dict[key])\n",
    "    auc = roc_auc_score(test_labels_dict[key0], test_labels_predict_proba_dict[key])\n",
    "\n",
    "    plt.plot(fpr, tpr)\n",
    "    plt.plot([0, 1], [0, 1], linestyle='--', color=\"red\")\n",
    "    plt.xlabel(\"False Positive Rate\")\n",
    "    plt.ylabel(\"True Positive Rate\")\n",
    "    plt.title(\"ROC Curve for the \"+key+\" model.\\nAUC = \"+str(round(auc*100, 3))+\"%\")\n",
    "    plt.show()"
   ]
  },
  {
   "cell_type": "code",
   "execution_count": null,
   "metadata": {},
   "outputs": [],
   "source": [
    "metrics_dict = {}\n",
    "\n",
    "for key in test_labels_predict_dict.keys():\n",
    "    key0 = str.split(key, \"_\")[0]\n",
    "    accuracy = metrics.accuracy_score(test_labels_dict[key0],y_pred=test_labels_predict_dict[key])\n",
    "    precision=metrics.precision_score(test_labels_dict[key0],y_pred=test_labels_predict_dict[key])\n",
    "    recall=metrics.recall_score(test_labels_dict[key0],y_pred=test_labels_predict_dict[key])\n",
    "    f1_score = metrics.f1_score(test_labels_dict[key0],y_pred=test_labels_predict_dict[key])\n",
    "    auc = roc_auc_score(test_labels_dict[key0], test_labels_predict_proba_dict[key])\n",
    "    \n",
    "    true_neg = metrics.confusion_matrix(test_labels_dict[key0], test_labels_predict_dict[key])[0][0]\n",
    "    false_pos = metrics.confusion_matrix(test_labels_dict[key0], test_labels_predict_dict[key])[0][1]\n",
    "    false_neg = metrics.confusion_matrix(test_labels_dict[key0], test_labels_predict_dict[key])[1][0]\n",
    "    true_pos = metrics.confusion_matrix(test_labels_dict[key0], test_labels_predict_dict[key])[1][1]\n",
    "    \n",
    "    metrics_dict.update({key:{\"accuracy\": accuracy, \n",
    "                              \"precision\": precision, \n",
    "                              \"recall\": recall, \n",
    "                              \"f1_score\": f1_score, \n",
    "                              \"auc\": auc,\n",
    "                              \"true_positive\": true_pos,\n",
    "                              \"true_negative\": true_neg, \n",
    "                              \"false_positive\": false_pos,\n",
    "                              \"false_negative\": false_neg}})"
   ]
  },
  {
   "cell_type": "code",
   "execution_count": null,
   "metadata": {},
   "outputs": [],
   "source": [
    "pd.DataFrame(metrics_dict).T"
   ]
  },
  {
   "cell_type": "code",
   "execution_count": null,
   "metadata": {},
   "outputs": [],
   "source": []
  },
  {
   "cell_type": "code",
   "execution_count": null,
   "metadata": {},
   "outputs": [],
   "source": [
    "## Saving NN Model metrics to DataFrame\n",
    "pd.DataFrame(metrics_dict).T.to_csv(\"NN_model_metrics_Roberta_solvers.csv\")"
   ]
  },
  {
   "cell_type": "code",
   "execution_count": null,
   "metadata": {},
   "outputs": [],
   "source": []
  },
  {
   "cell_type": "code",
   "execution_count": null,
   "metadata": {},
   "outputs": [],
   "source": []
  }
 ],
 "metadata": {
  "kernelspec": {
   "display_name": "Python [conda env:.conda-AM_BERT]",
   "language": "python",
   "name": "conda-env-.conda-AM_BERT-py"
  },
  "language_info": {
   "codemirror_mode": {
    "name": "ipython",
    "version": 3
   },
   "file_extension": ".py",
   "mimetype": "text/x-python",
   "name": "python",
   "nbconvert_exporter": "python",
   "pygments_lexer": "ipython3",
   "version": "3.8.10"
  }
 },
 "nbformat": 4,
 "nbformat_minor": 4
}
